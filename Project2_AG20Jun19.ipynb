{
 "cells": [
  {
   "cell_type": "markdown",
   "metadata": {},
   "source": [
    "# Module 02 Project#\n",
    "\n",
    "## Introduction##\n",
    "\n",
    "This project provides a .csv database for a ficticious company named \"Northwind Traders\".\n",
    "\n",
    "The database captures all the sales transactions that occurs between the company i.e. Northwind traders and its customers as well as the purchase transactions between Northwind and its suppliers.\n",
    "\n",
    "From this database, we will look to generate analytical insights that could be of value to the company via the use of our statistical analysis and hypothesis testing.\n",
    "\n",
    "I will conduct my experiment based on the general structure of experimental design:\n",
    "\n",
    "1. **Make an observation**\n",
    "\n",
    "2. **Examine the research**\n",
    "\n",
    "3. **Form a Hypothesis** \n",
    "\n",
    "4. **Conduct an experiment and/or gather your of Data** \n",
    "\n",
    "5. **Analyze the Results**\n",
    "\n",
    "6. **Draw Conclusions** \n",
    "\n",
    "\n",
    "\n",
    "### 1. Make an observation###\n",
    "\n",
    "The database has tables reflecting orders sold, customers placing orders, employees, regions where customers and also the employes are located, etc. A complete schema of the Northwind database is here\n",
    "\n",
    "The following ERD Diagram describes the Northwind Traders Database:\n",
    "\n",
    "<img src='Northwind_ERD.png'>\n",
    "\n",
    "\n",
    "Must companies are interested in their performance: levels of sale, quantities, times, profitability and  there are a number of questions I consider would be helpful to learn about Northwind.\n",
    "\n",
    "### 2. Examine research### \n",
    "\n",
    "Looking at our database schema I have areas of interest that would like to explore further. These are posed as questions below and will be answered in this project.\n",
    "\n",
    "**Question 1:** Do discounts have a statistically significant effect in the number of product customers order? If so, at what level(s) of discount?\n",
    "\n",
    "**Question 2:** If I choose a random sample of Undiscounted products sold and Discounted products sold, what is the probability that the Undiscounted are smaller than the Discounted\n",
    "\n",
    "**Question 3:** Does a particular product (or category) sell better in different Regions?\n",
    "\n",
    "**Question 4:** Is the profit of a particular product (or category) affected by the Region?\n",
    "\n",
    "**Question 5:** Does the sale of a product (ex: most profitable) change by Season? \n",
    "\n",
    "**Question 6:** Does the total cost of an order affect the cost of freight used? per shipper?\n",
    "\n",
    "### Question 1: Do discounts have a statistically significant effect in the number of product customers order? If so, at what level(s) of discount?\n",
    "\n",
    "\n",
    "### 3. Form a hypothesis\n",
    "\n",
    "#### Null hypothesis statement\n",
    "\n",
    "First thing I try to identify is the change in the quantity of products sold based on discount. The null-hypothesis addresses the fact that there is no change and sales of products with or without discount is exactly the same. \n",
    "\n",
    ">$H_{0}$: $\\mu_{D0} = \\mu_{Disc} $\n",
    "\n",
    "\n",
    "#### Alternate hypothesis\n",
    "    \n",
    "Our alternate hypothesis is that there is a change in the quantity of products sold based on discount.\n",
    "\n",
    ">$H_{A}$: $\\mu_{D0} ≠ \\mu_{Disc} $\n",
    "\n",
    "\n",
    "where:\n",
    "\n",
    "$ \\mu_{D0} $ = mean of Undiscounted products\n",
    "\n",
    "$ \\mu_{Disc} $ = mean of Discounted products\n",
    "\n",
    "\n",
    "### 4. Conduct an experiment"
   ]
  },
  {
   "cell_type": "markdown",
   "metadata": {},
   "source": [
    "First we gather our data by loading the necessary libaries, opening database and start query of data\n"
   ]
  },
  {
   "cell_type": "code",
   "execution_count": 24,
   "metadata": {},
   "outputs": [
    {
     "name": "stdout",
     "output_type": "stream",
     "text": [
      "2019-06-20 11:11:05,756 INFO sqlalchemy.engine.base.Engine SELECT CAST('test plain returns' AS VARCHAR(60)) AS anon_1\n",
      "2019-06-20 11:11:05,757 INFO sqlalchemy.engine.base.Engine ()\n",
      "2019-06-20 11:11:05,758 INFO sqlalchemy.engine.base.Engine SELECT CAST('test unicode returns' AS VARCHAR(60)) AS anon_1\n",
      "2019-06-20 11:11:05,759 INFO sqlalchemy.engine.base.Engine ()\n"
     ]
    }
   ],
   "source": [
    "# Importing the required libraries\n",
    "from sqlalchemy import create_engine\n",
    "from sqlalchemy.orm import Session, sessionmaker\n",
    "import pandas as pd\n",
    "import seaborn as sns\n",
    "import matplotlib.pyplot as plt\n",
    "import numpy as np\n",
    "import statsmodels.formula.api as smf\n",
    "import statsmodels.api as sm\n",
    "from statsmodels.formula.api import ols\n",
    "import scipy.stats as stats\n",
    "from scipy.stats import kurtosis, skew\n",
    "\n",
    "# Ignoring the FutureWarnings to allow smooth run of code (graphs)\n",
    "import warnings\n",
    "warnings.filterwarnings(\"ignore\", category=FutureWarning)\n",
    "\n",
    "# Creating an engine and connecting to a database with SQLAlchemy\n",
    "engine = create_engine('sqlite:///Northwind_small.sqlite', echo=True)\n",
    "Session = sessionmaker(bind=engine)\n",
    "session = Session()\n",
    "con = engine.connect()"
   ]
  },
  {
   "cell_type": "code",
   "execution_count": 2,
   "metadata": {},
   "outputs": [
    {
     "name": "stdout",
     "output_type": "stream",
     "text": [
      "2019-06-20 11:00:48,788 INFO sqlalchemy.engine.base.Engine SELECT name FROM sqlite_master WHERE type='table' ORDER BY name\n",
      "2019-06-20 11:00:48,790 INFO sqlalchemy.engine.base.Engine ()\n",
      "['Category', 'Customer', 'CustomerCustomerDemo', 'CustomerDemographic', 'Employee', 'EmployeeTerritory', 'Order', 'OrderDetail', 'Product', 'Region', 'Shipper', 'Supplier', 'Territory']\n"
     ]
    }
   ],
   "source": [
    "# Inspect tables to confirm table names match\n",
    "from sqlalchemy import inspect\n",
    "\n",
    "inspector = inspect(engine)\n",
    "print(inspector.get_table_names())"
   ]
  },
  {
   "cell_type": "code",
   "execution_count": 3,
   "metadata": {},
   "outputs": [],
   "source": [
    "# define a function to inspect tables and confirm column names for the tables I plan on using\n",
    "def get_columns_info(table_name):\n",
    "    columns_list = inspector.get_columns(table_name)\n",
    "    print (\"Table Name: {}\".format(table_name))\n",
    "    for column in columns_list:\n",
    "        print(\"Column: {}\\t\\tType:{}\".format(column['name'],column['type']))\n",
    "    print(\"\")"
   ]
  },
  {
   "cell_type": "code",
   "execution_count": 4,
   "metadata": {},
   "outputs": [
    {
     "name": "stdout",
     "output_type": "stream",
     "text": [
      "2019-06-20 11:00:57,746 INFO sqlalchemy.engine.base.Engine PRAGMA table_info(\"OrderDetail\")\n",
      "2019-06-20 11:00:57,747 INFO sqlalchemy.engine.base.Engine ()\n",
      "Table Name: OrderDetail\n",
      "Column: Id\t\tType:VARCHAR(8000)\n",
      "Column: OrderId\t\tType:INTEGER\n",
      "Column: ProductId\t\tType:INTEGER\n",
      "Column: UnitPrice\t\tType:DECIMAL\n",
      "Column: Quantity\t\tType:INTEGER\n",
      "Column: Discount\t\tType:FLOAT\n",
      "\n"
     ]
    }
   ],
   "source": [
    "# print the columns for my tables of interest\n",
    "#get_columns_info('Customer')\n",
    "#get_columns_info('CustomerDemographic') # this is empty\n",
    "#get_columns_info('Order')\n",
    "get_columns_info('OrderDetail')\n",
    "#get_columns_info('Product')\n",
    "#get_columns_info('Category')"
   ]
  },
  {
   "cell_type": "code",
   "execution_count": 5,
   "metadata": {},
   "outputs": [
    {
     "name": "stdout",
     "output_type": "stream",
     "text": [
      "2019-06-20 11:01:01,912 INFO sqlalchemy.engine.base.Engine  SELECT p.ProductName, cat.CategoryName, p.UnitPrice, od.UnitPrice, od.Discount, od.Quantity, o.Id\n",
      "FROM Product p \n",
      "JOIN Category cat ON p.CategoryId = cat.Id\n",
      "JOIN OrderDetail od ON p.ID = od.ProductId\n",
      "JOIN [Order] o ON od.OrderId = o.Id\n",
      "2019-06-20 11:01:01,913 INFO sqlalchemy.engine.base.Engine ()\n",
      "2155\n"
     ]
    },
    {
     "data": {
      "text/html": [
       "<div>\n",
       "<style scoped>\n",
       "    .dataframe tbody tr th:only-of-type {\n",
       "        vertical-align: middle;\n",
       "    }\n",
       "\n",
       "    .dataframe tbody tr th {\n",
       "        vertical-align: top;\n",
       "    }\n",
       "\n",
       "    .dataframe thead th {\n",
       "        text-align: right;\n",
       "    }\n",
       "</style>\n",
       "<table border=\"1\" class=\"dataframe\">\n",
       "  <thead>\n",
       "    <tr style=\"text-align: right;\">\n",
       "      <th></th>\n",
       "      <th>ProductName</th>\n",
       "      <th>CategoryName</th>\n",
       "      <th>UnitPrice</th>\n",
       "      <th>UnitPrice</th>\n",
       "      <th>Discount</th>\n",
       "      <th>Quantity</th>\n",
       "      <th>Id</th>\n",
       "    </tr>\n",
       "  </thead>\n",
       "  <tbody>\n",
       "    <tr>\n",
       "      <th>0</th>\n",
       "      <td>Queso Cabrales</td>\n",
       "      <td>Dairy Products</td>\n",
       "      <td>21.00</td>\n",
       "      <td>14.0</td>\n",
       "      <td>0.00</td>\n",
       "      <td>12</td>\n",
       "      <td>10248</td>\n",
       "    </tr>\n",
       "    <tr>\n",
       "      <th>1</th>\n",
       "      <td>Singaporean Hokkien Fried Mee</td>\n",
       "      <td>Grains/Cereals</td>\n",
       "      <td>14.00</td>\n",
       "      <td>9.8</td>\n",
       "      <td>0.00</td>\n",
       "      <td>10</td>\n",
       "      <td>10248</td>\n",
       "    </tr>\n",
       "    <tr>\n",
       "      <th>2</th>\n",
       "      <td>Mozzarella di Giovanni</td>\n",
       "      <td>Dairy Products</td>\n",
       "      <td>34.80</td>\n",
       "      <td>34.8</td>\n",
       "      <td>0.00</td>\n",
       "      <td>5</td>\n",
       "      <td>10248</td>\n",
       "    </tr>\n",
       "    <tr>\n",
       "      <th>3</th>\n",
       "      <td>Tofu</td>\n",
       "      <td>Produce</td>\n",
       "      <td>23.25</td>\n",
       "      <td>18.6</td>\n",
       "      <td>0.00</td>\n",
       "      <td>9</td>\n",
       "      <td>10249</td>\n",
       "    </tr>\n",
       "    <tr>\n",
       "      <th>4</th>\n",
       "      <td>Manjimup Dried Apples</td>\n",
       "      <td>Produce</td>\n",
       "      <td>53.00</td>\n",
       "      <td>42.4</td>\n",
       "      <td>0.00</td>\n",
       "      <td>40</td>\n",
       "      <td>10249</td>\n",
       "    </tr>\n",
       "    <tr>\n",
       "      <th>5</th>\n",
       "      <td>Jack's New England Clam Chowder</td>\n",
       "      <td>Seafood</td>\n",
       "      <td>9.65</td>\n",
       "      <td>7.7</td>\n",
       "      <td>0.00</td>\n",
       "      <td>10</td>\n",
       "      <td>10250</td>\n",
       "    </tr>\n",
       "    <tr>\n",
       "      <th>6</th>\n",
       "      <td>Manjimup Dried Apples</td>\n",
       "      <td>Produce</td>\n",
       "      <td>53.00</td>\n",
       "      <td>42.4</td>\n",
       "      <td>0.15</td>\n",
       "      <td>35</td>\n",
       "      <td>10250</td>\n",
       "    </tr>\n",
       "    <tr>\n",
       "      <th>7</th>\n",
       "      <td>Louisiana Fiery Hot Pepper Sauce</td>\n",
       "      <td>Condiments</td>\n",
       "      <td>21.05</td>\n",
       "      <td>16.8</td>\n",
       "      <td>0.15</td>\n",
       "      <td>15</td>\n",
       "      <td>10250</td>\n",
       "    </tr>\n",
       "    <tr>\n",
       "      <th>8</th>\n",
       "      <td>Gustaf's Knäckebröd</td>\n",
       "      <td>Grains/Cereals</td>\n",
       "      <td>21.00</td>\n",
       "      <td>16.8</td>\n",
       "      <td>0.05</td>\n",
       "      <td>6</td>\n",
       "      <td>10251</td>\n",
       "    </tr>\n",
       "    <tr>\n",
       "      <th>9</th>\n",
       "      <td>Ravioli Angelo</td>\n",
       "      <td>Grains/Cereals</td>\n",
       "      <td>19.50</td>\n",
       "      <td>15.6</td>\n",
       "      <td>0.05</td>\n",
       "      <td>15</td>\n",
       "      <td>10251</td>\n",
       "    </tr>\n",
       "  </tbody>\n",
       "</table>\n",
       "</div>"
      ],
      "text/plain": [
       "                        ProductName    CategoryName  UnitPrice  UnitPrice  \\\n",
       "0                    Queso Cabrales  Dairy Products      21.00       14.0   \n",
       "1     Singaporean Hokkien Fried Mee  Grains/Cereals      14.00        9.8   \n",
       "2            Mozzarella di Giovanni  Dairy Products      34.80       34.8   \n",
       "3                              Tofu         Produce      23.25       18.6   \n",
       "4             Manjimup Dried Apples         Produce      53.00       42.4   \n",
       "5   Jack's New England Clam Chowder         Seafood       9.65        7.7   \n",
       "6             Manjimup Dried Apples         Produce      53.00       42.4   \n",
       "7  Louisiana Fiery Hot Pepper Sauce      Condiments      21.05       16.8   \n",
       "8               Gustaf's Knäckebröd  Grains/Cereals      21.00       16.8   \n",
       "9                    Ravioli Angelo  Grains/Cereals      19.50       15.6   \n",
       "\n",
       "   Discount  Quantity     Id  \n",
       "0      0.00        12  10248  \n",
       "1      0.00        10  10248  \n",
       "2      0.00         5  10248  \n",
       "3      0.00         9  10249  \n",
       "4      0.00        40  10249  \n",
       "5      0.00        10  10250  \n",
       "6      0.15        35  10250  \n",
       "7      0.15        15  10250  \n",
       "8      0.05         6  10251  \n",
       "9      0.05        15  10251  "
      ]
     },
     "execution_count": 5,
     "metadata": {},
     "output_type": "execute_result"
    }
   ],
   "source": [
    "#run some basic query to get to know the type of data\n",
    "\n",
    "# Per product, how many sales and where (which customers)\n",
    "q_var = ''' SELECT p.ProductName, cat.CategoryName, p.UnitPrice, od.UnitPrice, od.Discount, od.Quantity, o.Id\n",
    "FROM Product p \n",
    "JOIN Category cat ON p.CategoryId = cat.Id\n",
    "JOIN OrderDetail od ON p.ID = od.ProductId\n",
    "JOIN [Order] o ON od.OrderId = o.Id'''\n",
    "\n",
    "df_tmp = pd.read_sql_query(q_var, engine)\n",
    "print(len(df_tmp))\n",
    "df_tmp.head(10)"
   ]
  },
  {
   "cell_type": "code",
   "execution_count": 7,
   "metadata": {},
   "outputs": [
    {
     "name": "stdout",
     "output_type": "stream",
     "text": [
      "2019-06-20 08:30:30,529 INFO sqlalchemy.engine.base.Engine  SELECT od.ProductId, od.UnitPrice, od.Discount, od.Quantity, od.UnitPrice*od.Quantity AS CostProduct,\n",
      "od.UnitPrice*od.Quantity*(1-od.Discount) AS DiscountedCostProduct, o.Id\n",
      "FROM [Order] o \n",
      "JOIN OrderDetail od ON od.OrderId = o.Id\n",
      "ORDER BY od.ProductId ASC\n",
      "\n",
      "2019-06-20 08:30:30,531 INFO sqlalchemy.engine.base.Engine ()\n",
      "2155\n"
     ]
    },
    {
     "data": {
      "text/html": [
       "<div>\n",
       "<style scoped>\n",
       "    .dataframe tbody tr th:only-of-type {\n",
       "        vertical-align: middle;\n",
       "    }\n",
       "\n",
       "    .dataframe tbody tr th {\n",
       "        vertical-align: top;\n",
       "    }\n",
       "\n",
       "    .dataframe thead th {\n",
       "        text-align: right;\n",
       "    }\n",
       "</style>\n",
       "<table border=\"1\" class=\"dataframe\">\n",
       "  <thead>\n",
       "    <tr style=\"text-align: right;\">\n",
       "      <th></th>\n",
       "      <th>ProductId</th>\n",
       "      <th>UnitPrice</th>\n",
       "      <th>Discount</th>\n",
       "      <th>Quantity</th>\n",
       "      <th>CostProduct</th>\n",
       "      <th>DiscountedCostProduct</th>\n",
       "      <th>Id</th>\n",
       "    </tr>\n",
       "  </thead>\n",
       "  <tbody>\n",
       "    <tr>\n",
       "      <th>0</th>\n",
       "      <td>1</td>\n",
       "      <td>14.4</td>\n",
       "      <td>0.20</td>\n",
       "      <td>45</td>\n",
       "      <td>648.0</td>\n",
       "      <td>518.4</td>\n",
       "      <td>10285</td>\n",
       "    </tr>\n",
       "    <tr>\n",
       "      <th>1</th>\n",
       "      <td>1</td>\n",
       "      <td>14.4</td>\n",
       "      <td>0.00</td>\n",
       "      <td>18</td>\n",
       "      <td>259.2</td>\n",
       "      <td>259.2</td>\n",
       "      <td>10294</td>\n",
       "    </tr>\n",
       "    <tr>\n",
       "      <th>2</th>\n",
       "      <td>1</td>\n",
       "      <td>14.4</td>\n",
       "      <td>0.00</td>\n",
       "      <td>20</td>\n",
       "      <td>288.0</td>\n",
       "      <td>288.0</td>\n",
       "      <td>10317</td>\n",
       "    </tr>\n",
       "    <tr>\n",
       "      <th>3</th>\n",
       "      <td>1</td>\n",
       "      <td>14.4</td>\n",
       "      <td>0.15</td>\n",
       "      <td>15</td>\n",
       "      <td>216.0</td>\n",
       "      <td>183.6</td>\n",
       "      <td>10348</td>\n",
       "    </tr>\n",
       "    <tr>\n",
       "      <th>4</th>\n",
       "      <td>1</td>\n",
       "      <td>14.4</td>\n",
       "      <td>0.00</td>\n",
       "      <td>12</td>\n",
       "      <td>172.8</td>\n",
       "      <td>172.8</td>\n",
       "      <td>10354</td>\n",
       "    </tr>\n",
       "  </tbody>\n",
       "</table>\n",
       "</div>"
      ],
      "text/plain": [
       "   ProductId  UnitPrice  Discount  Quantity  CostProduct  \\\n",
       "0          1       14.4      0.20        45        648.0   \n",
       "1          1       14.4      0.00        18        259.2   \n",
       "2          1       14.4      0.00        20        288.0   \n",
       "3          1       14.4      0.15        15        216.0   \n",
       "4          1       14.4      0.00        12        172.8   \n",
       "\n",
       "   DiscountedCostProduct     Id  \n",
       "0                  518.4  10285  \n",
       "1                  259.2  10294  \n",
       "2                  288.0  10317  \n",
       "3                  183.6  10348  \n",
       "4                  172.8  10354  "
      ]
     },
     "execution_count": 7,
     "metadata": {},
     "output_type": "execute_result"
    }
   ],
   "source": [
    "# Extract all the orders with their products and quantities\n",
    "q_var = ''' SELECT od.ProductId, od.UnitPrice, od.Discount, od.Quantity, od.UnitPrice*od.Quantity AS CostProduct,\n",
    "od.UnitPrice*od.Quantity*(1-od.Discount) AS DiscountedCostProduct, o.Id\n",
    "FROM [Order] o \n",
    "JOIN OrderDetail od ON od.OrderId = o.Id\n",
    "ORDER BY od.ProductId ASC\n",
    "'''\n",
    "\n",
    "df_t1 = pd.read_sql_query(q_var, engine)\n",
    "print(len(df_t1))\n",
    "df_t1.head()"
   ]
  },
  {
   "cell_type": "markdown",
   "metadata": {},
   "source": [
    "Now that we have some additional knowledge about the type of products, I would like to have the Quantity of products sold without Discount and store in a dataframe"
   ]
  },
  {
   "cell_type": "code",
   "execution_count": 6,
   "metadata": {},
   "outputs": [
    {
     "name": "stdout",
     "output_type": "stream",
     "text": [
      "2019-06-20 11:01:05,349 INFO sqlalchemy.engine.base.Engine  SELECT od.ProductId, od.UnitPrice, od.Discount, od.Quantity, od.UnitPrice*od.Quantity AS CostProduct,\n",
      "od.UnitPrice*od.Quantity*(1-od.Discount) AS DiscountedCostProduct, o.Id\n",
      "FROM [Order] o \n",
      "JOIN OrderDetail od ON od.OrderId = o.Id\n",
      "WHERE od.Discount = 0\n",
      "ORDER BY od.ProductId ASC\n",
      "\n",
      "2019-06-20 11:01:05,350 INFO sqlalchemy.engine.base.Engine ()\n",
      "1317\n",
      "21.715261958997722\n"
     ]
    },
    {
     "data": {
      "text/html": [
       "<div>\n",
       "<style scoped>\n",
       "    .dataframe tbody tr th:only-of-type {\n",
       "        vertical-align: middle;\n",
       "    }\n",
       "\n",
       "    .dataframe tbody tr th {\n",
       "        vertical-align: top;\n",
       "    }\n",
       "\n",
       "    .dataframe thead th {\n",
       "        text-align: right;\n",
       "    }\n",
       "</style>\n",
       "<table border=\"1\" class=\"dataframe\">\n",
       "  <thead>\n",
       "    <tr style=\"text-align: right;\">\n",
       "      <th></th>\n",
       "      <th>ProductId</th>\n",
       "      <th>UnitPrice</th>\n",
       "      <th>Discount</th>\n",
       "      <th>Quantity</th>\n",
       "      <th>CostProduct</th>\n",
       "      <th>DiscountedCostProduct</th>\n",
       "      <th>Id</th>\n",
       "    </tr>\n",
       "  </thead>\n",
       "  <tbody>\n",
       "    <tr>\n",
       "      <th>0</th>\n",
       "      <td>1</td>\n",
       "      <td>14.4</td>\n",
       "      <td>0.0</td>\n",
       "      <td>18</td>\n",
       "      <td>259.2</td>\n",
       "      <td>259.2</td>\n",
       "      <td>10294</td>\n",
       "    </tr>\n",
       "    <tr>\n",
       "      <th>1</th>\n",
       "      <td>1</td>\n",
       "      <td>14.4</td>\n",
       "      <td>0.0</td>\n",
       "      <td>20</td>\n",
       "      <td>288.0</td>\n",
       "      <td>288.0</td>\n",
       "      <td>10317</td>\n",
       "    </tr>\n",
       "    <tr>\n",
       "      <th>2</th>\n",
       "      <td>1</td>\n",
       "      <td>14.4</td>\n",
       "      <td>0.0</td>\n",
       "      <td>12</td>\n",
       "      <td>172.8</td>\n",
       "      <td>172.8</td>\n",
       "      <td>10354</td>\n",
       "    </tr>\n",
       "    <tr>\n",
       "      <th>3</th>\n",
       "      <td>1</td>\n",
       "      <td>14.4</td>\n",
       "      <td>0.0</td>\n",
       "      <td>10</td>\n",
       "      <td>144.0</td>\n",
       "      <td>144.0</td>\n",
       "      <td>10406</td>\n",
       "    </tr>\n",
       "    <tr>\n",
       "      <th>4</th>\n",
       "      <td>1</td>\n",
       "      <td>14.4</td>\n",
       "      <td>0.0</td>\n",
       "      <td>24</td>\n",
       "      <td>345.6</td>\n",
       "      <td>345.6</td>\n",
       "      <td>10413</td>\n",
       "    </tr>\n",
       "    <tr>\n",
       "      <th>5</th>\n",
       "      <td>1</td>\n",
       "      <td>14.4</td>\n",
       "      <td>0.0</td>\n",
       "      <td>15</td>\n",
       "      <td>216.0</td>\n",
       "      <td>216.0</td>\n",
       "      <td>10477</td>\n",
       "    </tr>\n",
       "    <tr>\n",
       "      <th>6</th>\n",
       "      <td>1</td>\n",
       "      <td>18.0</td>\n",
       "      <td>0.0</td>\n",
       "      <td>10</td>\n",
       "      <td>180.0</td>\n",
       "      <td>180.0</td>\n",
       "      <td>10576</td>\n",
       "    </tr>\n",
       "    <tr>\n",
       "      <th>7</th>\n",
       "      <td>1</td>\n",
       "      <td>18.0</td>\n",
       "      <td>0.0</td>\n",
       "      <td>20</td>\n",
       "      <td>360.0</td>\n",
       "      <td>360.0</td>\n",
       "      <td>10590</td>\n",
       "    </tr>\n",
       "    <tr>\n",
       "      <th>8</th>\n",
       "      <td>1</td>\n",
       "      <td>18.0</td>\n",
       "      <td>0.0</td>\n",
       "      <td>3</td>\n",
       "      <td>54.0</td>\n",
       "      <td>54.0</td>\n",
       "      <td>10609</td>\n",
       "    </tr>\n",
       "    <tr>\n",
       "      <th>9</th>\n",
       "      <td>1</td>\n",
       "      <td>18.0</td>\n",
       "      <td>0.0</td>\n",
       "      <td>6</td>\n",
       "      <td>108.0</td>\n",
       "      <td>108.0</td>\n",
       "      <td>10611</td>\n",
       "    </tr>\n",
       "  </tbody>\n",
       "</table>\n",
       "</div>"
      ],
      "text/plain": [
       "   ProductId  UnitPrice  Discount  Quantity  CostProduct  \\\n",
       "0          1       14.4       0.0        18        259.2   \n",
       "1          1       14.4       0.0        20        288.0   \n",
       "2          1       14.4       0.0        12        172.8   \n",
       "3          1       14.4       0.0        10        144.0   \n",
       "4          1       14.4       0.0        24        345.6   \n",
       "5          1       14.4       0.0        15        216.0   \n",
       "6          1       18.0       0.0        10        180.0   \n",
       "7          1       18.0       0.0        20        360.0   \n",
       "8          1       18.0       0.0         3         54.0   \n",
       "9          1       18.0       0.0         6        108.0   \n",
       "\n",
       "   DiscountedCostProduct     Id  \n",
       "0                  259.2  10294  \n",
       "1                  288.0  10317  \n",
       "2                  172.8  10354  \n",
       "3                  144.0  10406  \n",
       "4                  345.6  10413  \n",
       "5                  216.0  10477  \n",
       "6                  180.0  10576  \n",
       "7                  360.0  10590  \n",
       "8                   54.0  10609  \n",
       "9                  108.0  10611  "
      ]
     },
     "execution_count": 6,
     "metadata": {},
     "output_type": "execute_result"
    }
   ],
   "source": [
    "# Extract all the orders with their products and quantities WHERE od.Discount = 0\n",
    "q_var = ''' SELECT od.ProductId, od.UnitPrice, od.Discount, od.Quantity, od.UnitPrice*od.Quantity AS CostProduct,\n",
    "od.UnitPrice*od.Quantity*(1-od.Discount) AS DiscountedCostProduct, o.Id\n",
    "FROM [Order] o \n",
    "JOIN OrderDetail od ON od.OrderId = o.Id\n",
    "WHERE od.Discount = 0\n",
    "ORDER BY od.ProductId ASC\n",
    "'''\n",
    "\n",
    "df_D0 = pd.read_sql_query(q_var, engine)\n",
    "print(len(df_D0))\n",
    "print(df_D0['Quantity'].mean())\n",
    "df_D0.head(10)"
   ]
  },
  {
   "cell_type": "markdown",
   "metadata": {},
   "source": [
    "We also would like to have the Quantity of products sold with Discount"
   ]
  },
  {
   "cell_type": "code",
   "execution_count": 7,
   "metadata": {},
   "outputs": [
    {
     "name": "stdout",
     "output_type": "stream",
     "text": [
      "2019-06-20 11:01:07,773 INFO sqlalchemy.engine.base.Engine  SELECT od.ProductId, od.UnitPrice, od.Discount, od.Quantity, od.UnitPrice*od.Quantity AS CostProduct,\n",
      "od.UnitPrice*od.Quantity*(1-od.Discount) AS DiscountedCostProduct, o.Id\n",
      "FROM [Order] o \n",
      "JOIN OrderDetail od ON od.OrderId = o.Id\n",
      "WHERE od.Discount <> 0\n",
      "ORDER BY od.ProductId ASC\n",
      "\n",
      "2019-06-20 11:01:07,774 INFO sqlalchemy.engine.base.Engine ()\n",
      "838\n",
      "27.10978520286396\n"
     ]
    },
    {
     "data": {
      "text/html": [
       "<div>\n",
       "<style scoped>\n",
       "    .dataframe tbody tr th:only-of-type {\n",
       "        vertical-align: middle;\n",
       "    }\n",
       "\n",
       "    .dataframe tbody tr th {\n",
       "        vertical-align: top;\n",
       "    }\n",
       "\n",
       "    .dataframe thead th {\n",
       "        text-align: right;\n",
       "    }\n",
       "</style>\n",
       "<table border=\"1\" class=\"dataframe\">\n",
       "  <thead>\n",
       "    <tr style=\"text-align: right;\">\n",
       "      <th></th>\n",
       "      <th>ProductId</th>\n",
       "      <th>UnitPrice</th>\n",
       "      <th>Discount</th>\n",
       "      <th>Quantity</th>\n",
       "      <th>CostProduct</th>\n",
       "      <th>DiscountedCostProduct</th>\n",
       "      <th>Id</th>\n",
       "    </tr>\n",
       "  </thead>\n",
       "  <tbody>\n",
       "    <tr>\n",
       "      <th>0</th>\n",
       "      <td>1</td>\n",
       "      <td>14.4</td>\n",
       "      <td>0.20</td>\n",
       "      <td>45</td>\n",
       "      <td>648.0</td>\n",
       "      <td>518.4</td>\n",
       "      <td>10285</td>\n",
       "    </tr>\n",
       "    <tr>\n",
       "      <th>1</th>\n",
       "      <td>1</td>\n",
       "      <td>14.4</td>\n",
       "      <td>0.15</td>\n",
       "      <td>15</td>\n",
       "      <td>216.0</td>\n",
       "      <td>183.6</td>\n",
       "      <td>10348</td>\n",
       "    </tr>\n",
       "    <tr>\n",
       "      <th>2</th>\n",
       "      <td>1</td>\n",
       "      <td>14.4</td>\n",
       "      <td>0.15</td>\n",
       "      <td>15</td>\n",
       "      <td>216.0</td>\n",
       "      <td>183.6</td>\n",
       "      <td>10370</td>\n",
       "    </tr>\n",
       "    <tr>\n",
       "      <th>3</th>\n",
       "      <td>1</td>\n",
       "      <td>18.0</td>\n",
       "      <td>0.20</td>\n",
       "      <td>40</td>\n",
       "      <td>720.0</td>\n",
       "      <td>576.0</td>\n",
       "      <td>10522</td>\n",
       "    </tr>\n",
       "    <tr>\n",
       "      <th>4</th>\n",
       "      <td>1</td>\n",
       "      <td>18.0</td>\n",
       "      <td>0.15</td>\n",
       "      <td>8</td>\n",
       "      <td>144.0</td>\n",
       "      <td>122.4</td>\n",
       "      <td>10526</td>\n",
       "    </tr>\n",
       "    <tr>\n",
       "      <th>5</th>\n",
       "      <td>1</td>\n",
       "      <td>18.0</td>\n",
       "      <td>0.25</td>\n",
       "      <td>15</td>\n",
       "      <td>270.0</td>\n",
       "      <td>202.5</td>\n",
       "      <td>10646</td>\n",
       "    </tr>\n",
       "    <tr>\n",
       "      <th>6</th>\n",
       "      <td>1</td>\n",
       "      <td>18.0</td>\n",
       "      <td>0.25</td>\n",
       "      <td>35</td>\n",
       "      <td>630.0</td>\n",
       "      <td>472.5</td>\n",
       "      <td>10689</td>\n",
       "    </tr>\n",
       "    <tr>\n",
       "      <th>7</th>\n",
       "      <td>1</td>\n",
       "      <td>18.0</td>\n",
       "      <td>0.20</td>\n",
       "      <td>5</td>\n",
       "      <td>90.0</td>\n",
       "      <td>72.0</td>\n",
       "      <td>10700</td>\n",
       "    </tr>\n",
       "    <tr>\n",
       "      <th>8</th>\n",
       "      <td>1</td>\n",
       "      <td>18.0</td>\n",
       "      <td>0.25</td>\n",
       "      <td>4</td>\n",
       "      <td>72.0</td>\n",
       "      <td>54.0</td>\n",
       "      <td>10838</td>\n",
       "    </tr>\n",
       "    <tr>\n",
       "      <th>9</th>\n",
       "      <td>1</td>\n",
       "      <td>18.0</td>\n",
       "      <td>0.20</td>\n",
       "      <td>80</td>\n",
       "      <td>1440.0</td>\n",
       "      <td>1152.0</td>\n",
       "      <td>10847</td>\n",
       "    </tr>\n",
       "  </tbody>\n",
       "</table>\n",
       "</div>"
      ],
      "text/plain": [
       "   ProductId  UnitPrice  Discount  Quantity  CostProduct  \\\n",
       "0          1       14.4      0.20        45        648.0   \n",
       "1          1       14.4      0.15        15        216.0   \n",
       "2          1       14.4      0.15        15        216.0   \n",
       "3          1       18.0      0.20        40        720.0   \n",
       "4          1       18.0      0.15         8        144.0   \n",
       "5          1       18.0      0.25        15        270.0   \n",
       "6          1       18.0      0.25        35        630.0   \n",
       "7          1       18.0      0.20         5         90.0   \n",
       "8          1       18.0      0.25         4         72.0   \n",
       "9          1       18.0      0.20        80       1440.0   \n",
       "\n",
       "   DiscountedCostProduct     Id  \n",
       "0                  518.4  10285  \n",
       "1                  183.6  10348  \n",
       "2                  183.6  10370  \n",
       "3                  576.0  10522  \n",
       "4                  122.4  10526  \n",
       "5                  202.5  10646  \n",
       "6                  472.5  10689  \n",
       "7                   72.0  10700  \n",
       "8                   54.0  10838  \n",
       "9                 1152.0  10847  "
      ]
     },
     "execution_count": 7,
     "metadata": {},
     "output_type": "execute_result"
    }
   ],
   "source": [
    "# Extract all the orders with their products and quantities WHERE od.Discount <> 0\n",
    "q_var = ''' SELECT od.ProductId, od.UnitPrice, od.Discount, od.Quantity, od.UnitPrice*od.Quantity AS CostProduct,\n",
    "od.UnitPrice*od.Quantity*(1-od.Discount) AS DiscountedCostProduct, o.Id\n",
    "FROM [Order] o \n",
    "JOIN OrderDetail od ON od.OrderId = o.Id\n",
    "WHERE od.Discount <> 0\n",
    "ORDER BY od.ProductId ASC\n",
    "'''\n",
    "\n",
    "df_Disc = pd.read_sql_query(q_var, engine)\n",
    "print(len(df_Disc))\n",
    "print(df_Disc['Quantity'].mean())\n",
    "df_Disc.head(10)"
   ]
  },
  {
   "cell_type": "markdown",
   "metadata": {},
   "source": [
    "One of the **conditions for our hypothesis testing** is that we are working with data that has a **normal distribution**. \n",
    "\n",
    "Normality is important because I would like to apply  a parametric test which increase the chances of finding variability in our data hence finding significant results.\n",
    "\n",
    "A perfect normal distribution is rare in a real experiment. Setting an alpha value indicating the threshold at which we are ok with rejecting the null hypothesis helps us to define how much is \"normal enough\" so that we accept the normality assumption for our data. \n",
    "\n",
    "To determine Normality we follow a multi step approach:\n",
    "\n",
    "    Step 1) State our hypothesis\n",
    "    Step 2) Observe data distribution graphically\n",
    "    Step 3) Measure the symmetry of the distribution and obtain p-value\n",
    "    Step 4) Analyze results\n",
    "\n",
    "#### Step 1) We state our **Normality hypothesis** as follows:\n",
    "\n",
    "### Null hypothesis##\n",
    "The data is normally distributed\n",
    "\n",
    "\n",
    ">$H_{0}$: $p >= \\alpha$\n",
    "    \n",
    "### Alternative hypothesis##\n",
    "The data it is Not normally distributed\n",
    "\n",
    ">$H_{A}$: $p < \\alpha$\n",
    "\n",
    "where:\n",
    "\n",
    "$p$ = P-value, calculated probability of having a random normal distribution by chance\n",
    "\n",
    "$\\alpha$ = selected threshold to indicate significance (0.05 for our case). Is the probability of us rejecting the null hypothesis, given that the null hypothesis were true.   \n",
    "\n",
    "\n",
    "#### Step 2) We provide a graphical representation for our data"
   ]
  },
  {
   "cell_type": "code",
   "execution_count": 9,
   "metadata": {},
   "outputs": [],
   "source": [
    "#define a function that creates a sample with normal distribution and same mean and standard deviation as our sample\n",
    "def sample_data(data, size):\n",
    "    x_sample = stats.norm.rvs(loc=data.mean(),scale=data.std(), size = size)\n",
    "    return x_sample"
   ]
  },
  {
   "cell_type": "code",
   "execution_count": 10,
   "metadata": {},
   "outputs": [],
   "source": [
    "sample_size= 1000\n",
    "df_Disc_Quantity_sample = sample_data(df_Disc.Quantity, sample_size)\n",
    "df_D0_Quantity_sample = sample_data(df_D0.Quantity, sample_size)"
   ]
  },
  {
   "cell_type": "code",
   "execution_count": 14,
   "metadata": {},
   "outputs": [
    {
     "data": {
      "image/png": "[encoded data removed]",
      "text/plain": [
       "<Figure size 432x288 with 1 Axes>"
      ]
     },
     "metadata": {},
     "output_type": "display_data"
    },
    {
     "data": {
      "image/png": "[encoded data removed]",
      "text/plain": [
       "<Figure size 432x288 with 1 Axes>"
      ]
     },
     "metadata": {},
     "output_type": "display_data"
    }
   ],
   "source": [
    "#setting parameters for graphs - grid background\n",
    "sns.set()\n",
    "#figsize = (24,6)\n",
    "fig, ax = plt.subplots()\n",
    "\n",
    "#Plot the Undiscounted\n",
    "sns.distplot(df_D0.Quantity,\n",
    "            hist = True, \n",
    "            hist_kws = {\"linewidth\":3,\"edgecolor\":'salmon',\"alpha\":0.4,\"label\":\"Histogram Undisc\"},\n",
    "            fit = stats.norm, \n",
    "            fit_kws = {\"linewidth\":3,\"alpha\":0.8,\"color\":\"salmon\",\"label\":\"Parametric Fit Undisc\"})\n",
    "plt.vlines(df_D0.Quantity.mean(), 0, .039, color = 'salmon', linestyles='-.', label='mean Undisc')\n",
    "plt.text(df_D0.Quantity.mean()+1, .039, r\"mean Undiscounted=\"+ str(round(df_D0.Quantity.mean(),1)), \n",
    "         {'color': 'darksalmon', 'fontsize': 12,'weight':'bold'},horizontalalignment='left')\n",
    "plt.subplots_adjust(top=0.9)\n",
    "plt.suptitle('Undiscounted')\n",
    "plt.legend(loc='center right',fontsize = 12)\n",
    "plt.show()\n",
    "\n",
    "\n",
    "#Plot the Discounted\n",
    "sns.distplot(df_Disc.Quantity,\n",
    "            hist = True, \n",
    "            hist_kws = {\"linewidth\":3,\"edgecolor\":'green',\"alpha\":0.6,\"label\":\"Histogram Disc\"},\n",
    "            fit = stats.norm, \n",
    "            fit_kws = {\"linewidth\":3,\"alpha\":0.6,\"color\":\"darkblue\",\"label\":\"Parametric Fit Disc\"})\n",
    "plt.vlines(df_Disc.Quantity.mean(), 0, .035, color = 'darkblue', linestyles='-.', label='mean Disc')\n",
    "plt.text(df_Disc.Quantity.mean()+1, .035, r\"mean Discounted=\"+ str(round(df_Disc.Quantity.mean(),1)), \n",
    "         {'color': 'darkblue', 'fontsize': 12,'weight':'bold'},horizontalalignment='left',)\n",
    "plt.subplots_adjust(top=0.9)\n",
    "plt.suptitle('Discounted') \n",
    "plt.legend(loc='center right',fontsize = 12)\n",
    "plt.show()"
   ]
  },
  {
   "cell_type": "markdown",
   "metadata": {},
   "source": [
    "We note what seems to be positive kurtosis - with the tail extending to the right for both distributions. \n",
    "\n",
    "#### Step 3) Measure the symmetry of our data\n",
    "\n",
    "Having the quantification for the asymmetry would confirm our observation from the graphs."
   ]
  },
  {
   "cell_type": "code",
   "execution_count": 15,
   "metadata": {},
   "outputs": [
    {
     "name": "stdout",
     "output_type": "stream",
     "text": [
      "Skeweness Discounted =  1.5815727350866624\n",
      "Kurtosis Discounted =  3.2855655338966683\n",
      "Skeweness Undiscounted =  1.9115988573935332\n",
      "Kurtosis Undiscounted =  5.771124915313802\n"
     ]
    }
   ],
   "source": [
    "#measure kurtosis and skewness\n",
    "print('Skeweness Discounted = ', skew(df_Disc.Quantity) )\n",
    "print('Kurtosis Discounted = ', kurtosis(df_Disc.Quantity) )\n",
    "print('Skeweness Undiscounted = ', skew(df_D0.Quantity) )\n",
    "print('Kurtosis Undiscounted = ', kurtosis(df_D0.Quantity) )"
   ]
  },
  {
   "cell_type": "markdown",
   "metadata": {},
   "source": [
    "There are some general gidelines about considering a normal distribution based on Skeweness (+/- 2) and Kurtosis (+/-3) however are only used as referece and are not conclusive.  Other methods provide a better answer to the question of how comfortable we are with our data being normal enough to hold the normality assumptions. Kolmogorov-Smirnov test (K-S) is one of them, designed to compare our data to a normal distribution  with the same mean and standard deviation as our sample.\n",
    "\n",
    "If we obtain a significance level(p-value) below the cut-off value we have set (0.05 in this case), we reject the null hypothesis and accept the alternative hypothesis. Alternatively, if we obtain a significance level above the cut-off value, we fail to reject the null hypothesis and cannot accept the alternative hypothesis. "
   ]
  },
  {
   "cell_type": "code",
   "execution_count": 16,
   "metadata": {},
   "outputs": [],
   "source": [
    "# define a function that tests measure of the strength of evidence against H0 -the NULL hypothesis of normality \n",
    "# for our data. H\n",
    "def result_ks_test(data, size):\n",
    "    confirmation = np.array([['Not', 'indicates normallity'],['','are not normal']])\n",
    "    result = stats.kstest(sample_data(data, size), 'norm', args = (data.mean(), data.std()))\n",
    "    if result[1] >= 0.05:\n",
    "        option = 0\n",
    "    else:\n",
    "        option = 1\n",
    "    #print(f'{result}')\n",
    "    print(f'K-S = {result[1]}, the test is {confirmation[option][0]} significant: data {confirmation[option][1]}')\n",
    "    return"
   ]
  },
  {
   "cell_type": "code",
   "execution_count": 17,
   "metadata": {},
   "outputs": [
    {
     "name": "stdout",
     "output_type": "stream",
     "text": [
      "K-S = 0.3231621085622556, the test is Not significant: data indicates normallity\n",
      "K-S = 0.4456235727922131, the test is Not significant: data indicates normallity\n"
     ]
    }
   ],
   "source": [
    "#running the K-S test for both our data for Discounted and Undiscounted products\n",
    "result_ks_test(df_Disc.Quantity,1000)\n",
    "result_ks_test(df_D0.Quantity,1000)"
   ]
  },
  {
   "cell_type": "markdown",
   "metadata": {},
   "source": [
    "#### Step 4) We interpret the results and Reject or Fail to Reject the NULL hypothesis\n",
    "\n",
    "Any p-value above .05 indicates we have 5% (or less) of probability of rejecting the Null hypothesis when it's true; it is statistically significant to say that **there is normality in the distribution of both our Discounted and Undiscounted product data**.  "
   ]
  },
  {
   "cell_type": "markdown",
   "metadata": {},
   "source": [
    "### 4. Analyze the Results\n",
    "\n",
    "Now that we have met the condition of Normality for our data, we want to know the magnitude of the difference between our two groups - to confirm or reject our initial Null hypothesis: The discount of a product does not have a significant effect on the number of products ordered. For this, we select Cohen's d to measure the number of standard deviations between the means of our 2 samples Discounted and Undiscounted "
   ]
  },
  {
   "cell_type": "code",
   "execution_count": 18,
   "metadata": {},
   "outputs": [],
   "source": [
    "#define function to calculate Cohen's D value\n",
    "def Cohen_d(data1, data2):\n",
    "    ''' \n",
    "    data1 and data2 are Series or Numpy arrays, the function returns the d value\n",
    "    '''\n",
    "    n1,n2 = len(data1), len(data2)\n",
    "    mean1,mean2 = data1.mean(), data2.mean()\n",
    "    var1,var2 = data1.var(), data2.var()\n",
    "    std1, std2 = data1.std(), data2.std()\n",
    "    \n",
    "    #calculate the pooled thershold\n",
    "    pooled_var = (n1*var1 + n2*var2)/(n1+n2)\n",
    "    \n",
    "    #calculate Cohen's statistic\n",
    "    d = (mean1-mean2)/np.sqrt(pooled_var)\n",
    "\n",
    "    return d"
   ]
  },
  {
   "cell_type": "code",
   "execution_count": 19,
   "metadata": {},
   "outputs": [
    {
     "name": "stdout",
     "output_type": "stream",
     "text": [
      "Cohen's d = 0.2862724481729286\n"
     ]
    }
   ],
   "source": [
    "#Compare now the Discount vs the Undiscounted quantities of products sold\n",
    "print(f'Cohen\\'s d = {Cohen_d(df_Disc.Quantity, df_D0.Quantity)}')"
   ]
  },
  {
   "cell_type": "markdown",
   "metadata": {},
   "source": [
    "We **Reject** the NULL hypothesis as, according to Cohen d's value guidelines, there's Small-Medium effect for the difference in Quantity of Product sold between Discounted and Undiscounted."
   ]
  },
  {
   "cell_type": "markdown",
   "metadata": {},
   "source": [
    "### 5. Draw conclusions\n",
    "\n",
    "Our test indicates that there is significant effect in the number of product customers order if there is a Discount. Northwind Trade may be interested in keeping this practice as it presents a positive results on the amount of products in their orders. It may also be of interest to explore further on the type of products, regions, customers etc if a more granular detail is desired."
   ]
  },
  {
   "cell_type": "markdown",
   "metadata": {},
   "source": [
    "### Now we can answer Question 1(b) :  at what level(s) of discount do discounts have a statistically significant effect in the number of product customers orders?"
   ]
  },
  {
   "cell_type": "markdown",
   "metadata": {},
   "source": [
    "### 1. Make an observation###\n",
    "\n",
    "From our previous example we already noted that there are multiple discounts, but we would like to know how many values we have:"
   ]
  },
  {
   "cell_type": "code",
   "execution_count": 20,
   "metadata": {},
   "outputs": [
    {
     "data": {
      "text/plain": [
       "0.05    185\n",
       "0.10    173\n",
       "0.20    161\n",
       "0.15    157\n",
       "0.25    154\n",
       "0.03      3\n",
       "0.02      2\n",
       "0.04      1\n",
       "0.06      1\n",
       "0.01      1\n",
       "Name: Discount, dtype: int64"
      ]
     },
     "execution_count": 20,
     "metadata": {},
     "output_type": "execute_result"
    }
   ],
   "source": [
    "# Display number of values\n",
    "df_Disc.Discount.value_counts()"
   ]
  },
  {
   "cell_type": "markdown",
   "metadata": {},
   "source": [
    "### 2. Examine research\n",
    "\n",
    "Forming different dataset with products based on a range of discount values, let's say by increments of 5%"
   ]
  },
  {
   "cell_type": "code",
   "execution_count": 21,
   "metadata": {},
   "outputs": [
    {
     "name": "stdout",
     "output_type": "stream",
     "text": [
      "Dataframe name: df_Disc05, Range discount > 0 <= 0.05\n",
      "Size Dataframe: 192\n",
      "Dataframe name: df_Disc10, Range discount > 0.05 <= 0.1\n",
      "Size Dataframe: 174\n",
      "Dataframe name: df_Disc15, Range discount > 0.1 <= 0.15\n",
      "Size Dataframe: 157\n",
      "Dataframe name: df_Disc20, Range discount > 0.15 <= 0.2\n",
      "Size Dataframe: 161\n",
      "Dataframe name: df_Disc25, Range discount > 0.2 <= 0.25\n",
      "Size Dataframe: 154\n",
      "['df_Disc05', 'df_Disc10', 'df_Disc15', 'df_Disc20', 'df_Disc25']\n"
     ]
    }
   ],
   "source": [
    "# creating dataframes for the ranges of 0.1-0.5, 0.6-.1, 0.15, 0.20 and 0.25\n",
    "initial = 0\n",
    "increment = 0.05\n",
    "beg_range = initial\n",
    "end_range = increment\n",
    "lst_nm = []\n",
    "df_collection = {}\n",
    "i=0\n",
    "# define the number of dataframes to use\n",
    "for nm in ['05','10','15','20','25']:\n",
    "    \n",
    "    #create the distinc name of the dataframe\n",
    "    key_name = 'df_Disc'+str(nm)\n",
    "    print(f'Dataframe name: {key_name}, Range discount > {round(beg_range,2)} <= {round(end_range,2)}')\n",
    "    lst_nm.insert(i,key_name)\n",
    "    \n",
    "    # create a dataframe and select the data that corresponds to range of Discount\n",
    "    df_collection[key_name] = pd.DataFrame()\n",
    "    df_collection[key_name] = df_Disc.loc[(df_Disc.Discount>beg_range) & (df_Disc.Discount<=end_range)]\n",
    "    print(f'Size Dataframe: {len(df_collection[key_name])}')\n",
    "    \n",
    "    beg_range = end_range\n",
    "    end_range = end_range+increment\n",
    "    i+= 1\n",
    "\n",
    "print(lst_nm)"
   ]
  },
  {
   "cell_type": "markdown",
   "metadata": {},
   "source": [
    "We note that the size of each of the dataframes (number of items for each of the different ranges) is similar; however we are interested in the Quantity of Products sold per Discount range having an impact and we'll define our hypothesis based on that."
   ]
  },
  {
   "cell_type": "markdown",
   "metadata": {},
   "source": [
    "### 3. Form a hypothesis\n",
    "\n",
    "\n",
    "#### Null hypothesis statement\n",
    "\n",
    "First thing I try to identify is the change in the quantity of products sold based on discount. The null-hypothesis addresses the fact that there is no change and sales of products with or without discount is exactly the same. \n",
    "\n",
    ">$H_{0}$: $\\mu_{D0} = \\mu_{Discx} $\n",
    "\n",
    "\n",
    "#### Alternate hypothesis\n",
    "    \n",
    "Our alternate hypothesis is that there is a change in the quantity of products sold based on the amount of discount.\n",
    "\n",
    ">$H_{A}$: $\\mu_{D0} ≠ \\mu_{Discx} $\n",
    "\n",
    "\n",
    "where:\n",
    "\n",
    "$ \\mu_{D0} $ = mean of Undiscounted products\n",
    "\n",
    "$ \\mu_{Discx} $ = mean of Discounted products for each of the different discounted amounts. ${x}$ will be defined in increments of 5%\n",
    "\n",
    "\n",
    "\n",
    "\n",
    "### 4. Conduct an experiment"
   ]
  },
  {
   "cell_type": "markdown",
   "metadata": {},
   "source": [
    "If we would like to test the Null hypothesis versus each dataset, having a very similar distribution and mean would be a good indicator that all datasets behave the same way with or without discount. So we start by the determination of Normality in each of our datasets."
   ]
  },
  {
   "cell_type": "markdown",
   "metadata": {},
   "source": [
    "To determine Normality we follow a multi step approach:\n",
    "\n",
    "    Step 1) State our hypothesis\n",
    "    Step 2) Observe data distribution graphically\n",
    "    Step 3) Measure the symmetry of the distribution and obtain p-value\n",
    "    Step 4) Analyze results\n",
    "\n",
    "#### Step 1) We state our **Normality hypothesis** as follows:\n",
    "\n",
    "### Null hypothesis##\n",
    "The data is normally distributed\n",
    "\n",
    "\n",
    ">$H_{0}$: $p >= \\alpha$\n",
    "    \n",
    "### Alternative hypothesis##\n",
    "The data it is Not normally distributed\n",
    "\n",
    ">$H_{A}$: $p < \\alpha$\n",
    "\n",
    "where:\n",
    "\n",
    "$p$ = P-value, calculated probability of having a random normal distribution by chance\n",
    "\n",
    "$\\alpha$ = selected threshold to indicate significance (0.05 for our case). Is the probability of us rejecting the null hypothesis, given that the null hypothesis were true.   \n",
    "\n",
    "\n",
    "#### Step 2) We provide a graphical representation for our data"
   ]
  },
  {
   "cell_type": "code",
   "execution_count": 31,
   "metadata": {},
   "outputs": [
    {
     "data": {
      "image/png": "[encoded data removed]",
      "text/plain": [
       "<Figure size 1728x432 with 5 Axes>"
      ]
     },
     "metadata": {},
     "output_type": "display_data"
    },
    {
     "data": {
      "image/png": "[encoded data removed]",
      "text/plain": [
       "<Figure size 432x288 with 1 Axes>"
      ]
     },
     "metadata": {},
     "output_type": "display_data"
    }
   ],
   "source": [
    "#setting parameters for graphs - grid background\n",
    "sns.set()\n",
    "\n",
    "fig, axes = plt.subplots(figsize = (24,6), ncols =5)\n",
    "i=0\n",
    "mean_discounts=[]\n",
    "#Plot the Discounted\n",
    "for ax, z in zip(axes, range(len(lst_nm))): \n",
    "    sns.distplot(df_collection[lst_nm[z]].Quantity,\n",
    "                 hist = True, \n",
    "                 hist_kws = {\"linewidth\":3,\"edgecolor\":'green',\"alpha\":0.6,\"label\":\"Histogram Disc\"},\n",
    "                 fit = stats.norm, \n",
    "                 fit_kws = {\"linewidth\":3,\"alpha\":0.6,\"color\":\"darkblue\",\"label\":\"Parametric Fit Disc\"}, ax=axes[i])\n",
    "    ax.vlines(df_collection[lst_nm[z]].Quantity.mean(), 0, .035, color = 'darkblue', \n",
    "              linestyles='-.', label='mean Disc')\n",
    "    ax.text(df_collection[lst_nm[z]].Quantity.mean()+1, .035, \n",
    "            r\"mean Discounted=\"+ str(round(df_collection[lst_nm[z]].Quantity.mean(),1)),\n",
    "             {'color': 'darkblue', 'fontsize': 12,'weight':'bold'},horizontalalignment='left',)\n",
    "    plt.subplots_adjust(top=0.9)\n",
    "    plt.suptitle('Discounted', fontsize = 20)\n",
    "    ax.set_title(f'Discount = {df_collection[lst_nm[z]].Discount.max()}')   \n",
    "    i+=1\n",
    "    mean_discounts.append(df_collection[lst_nm[z]].Quantity.mean())\n",
    "plt.legend(loc='center right',fontsize = 12)\n",
    "plt.show()\n",
    "\n",
    "\n",
    "#Plot the Undiscounted\n",
    "sns.distplot(df_D0.Quantity,\n",
    "            hist = True, \n",
    "            hist_kws = {\"linewidth\":3,\"edgecolor\":'salmon',\"alpha\":0.4,\"label\":\"Histogram Undisc\"},\n",
    "            fit = stats.norm, \n",
    "            fit_kws = {\"linewidth\":3,\"alpha\":0.8,\"color\":\"salmon\",\"label\":\"Parametric Fit Undisc\"})\n",
    "plt.vlines(df_D0.Quantity.mean(), 0, .039, color = 'salmon', linestyles='-.', label='mean Undisc')\n",
    "plt.text(df_D0.Quantity.mean()+1, .039, r\"mean Undiscounted=\"+ str(round(df_D0.Quantity.mean(),1)), \n",
    "         {'color': 'darksalmon', 'fontsize': 12,'weight':'bold'},horizontalalignment='left')\n",
    "plt.subplots_adjust(top=0.9)\n",
    "plt.suptitle('Undiscounted')\n",
    "plt.legend(loc='center right',fontsize = 12)\n",
    "plt.show()"
   ]
  },
  {
   "cell_type": "code",
   "execution_count": 32,
   "metadata": {},
   "outputs": [
    {
     "data": {
      "text/plain": [
       "[27.052083333333332,\n",
       " 25.103448275862068,\n",
       " 28.38216560509554,\n",
       " 27.024844720496894,\n",
       " 28.24025974025974]"
      ]
     },
     "execution_count": 32,
     "metadata": {},
     "output_type": "execute_result"
    }
   ],
   "source": [
    "mean_discounts"
   ]
  },
  {
   "cell_type": "markdown",
   "metadata": {},
   "source": [
    "We observe a somewhat normal distribution graphically for each one of the discount levels. Moving on to the next step."
   ]
  },
  {
   "cell_type": "markdown",
   "metadata": {},
   "source": [
    "#### Step 3) Measure the symmetry of our data\n",
    "Having the quantification for the asymmetry would confirm our observation from the graphs."
   ]
  },
  {
   "cell_type": "code",
   "execution_count": 23,
   "metadata": {},
   "outputs": [
    {
     "name": "stdout",
     "output_type": "stream",
     "text": [
      "\n",
      "Discount 0.05\n",
      "Skeweness =  1.5874358685350642\n",
      "Kurtosis =  2.7291043769009002\n",
      "K-S = 0.12277073509584757, the test is Not significant: data indicates normallity\n",
      "\n",
      "Discount 0.1\n",
      "Skeweness =  2.2070318192308593\n",
      "Kurtosis =  6.727900595581794\n",
      "K-S = 0.8959499146061571, the test is Not significant: data indicates normallity\n",
      "\n",
      "Discount 0.15\n",
      "Skeweness =  1.3079736552989059\n",
      "Kurtosis =  1.4684627433848405\n",
      "K-S = 0.77658413388018, the test is Not significant: data indicates normallity\n",
      "\n",
      "Discount 0.2\n",
      "Skeweness =  1.1018799112625848\n",
      "Kurtosis =  1.3014003354581005\n",
      "K-S = 0.13871961818455647, the test is Not significant: data indicates normallity\n",
      "\n",
      "Discount 0.25\n",
      "Skeweness =  1.492492172219846\n",
      "Kurtosis =  3.4296470898719944\n",
      "K-S = 0.07123556629483252, the test is Not significant: data indicates normallity\n"
     ]
    }
   ],
   "source": [
    "#   measure kurtosis, kewness and running the K-S test for each dataframe\n",
    "\n",
    "for discount in range(len(lst_nm)):\n",
    "    print(f'\\nDiscount {df_collection[lst_nm[discount]].Discount.max()}')\n",
    "    print(f'Skeweness = ', skew(df_collection[lst_nm[discount]].Quantity) )\n",
    "    print(f'Kurtosis = ', kurtosis(df_collection[lst_nm[discount]].Quantity) )\n",
    "    result_ks_test(df_collection[lst_nm[z]].Quantity,1000)"
   ]
  },
  {
   "cell_type": "markdown",
   "metadata": {},
   "source": [
    "#### Step 4) We interpret the results and Reject or Fail to Reject the NULL hypothesis\n",
    "\n",
    "Using a critical value of .05 indicates we have 5% (or less) of probability of rejecting the Null hypothesis when it's true; for all our Discounted dataset we cannot reject the Null hypothesis and Accept that data is normaly distributed."
   ]
  },
  {
   "cell_type": "markdown",
   "metadata": {},
   "source": [
    "### 4. Analyze the Results\n",
    "\n",
    "With the Normality for our data confirmed, we test each one of our discounted datasets versus the Undiscounted dataset as we want to know the magnitude of the difference between our two groups - to confirm or reject our initial Null hypothesis: The discount of a product does not have a significant effect on the number of products ordered. \n",
    "\n",
    "For our group of discounts we select a statistical test for all groups at once. ANOVA simultaneously analyze the differences among group means in a sample."
   ]
  },
  {
   "cell_type": "markdown",
   "metadata": {},
   "source": [
    "ANOVA is considered a generalized linear model (GLM). The general regression equation is as follow:\n",
    "\n",
    "\n",
    "$outcome_i = (model) + error_{i}$\n",
    "\n",
    "\n",
    "#### Generating the ANOVA Table\n",
    "\n",
    "To generate the ANOVA table we fit the model and then generate the table from this object using our following formula:\n",
    "\n",
    "$Control Column $ ~ $ C(factor col_1) + factor col_2 + C(factor col_3) + ... + X$\n",
    "\n",
    "** *Where categorical variables are indicated by wrapping them with ```C() ```**"
   ]
  },
  {
   "cell_type": "code",
   "execution_count": 35,
   "metadata": {},
   "outputs": [
    {
     "ename": "PatsyError",
     "evalue": "Error evaluating factor: TypeError: list indices must be integers or slices, not str\n    range(len(lst_nm)) ~ C(mean_discounts)\n    ^^^^^^^^^^^^^^^^^^",
     "output_type": "error",
     "traceback": [
      "\u001b[0;31m---------------------------------------------------------------------------\u001b[0m",
      "\u001b[0;31mTypeError\u001b[0m                                 Traceback (most recent call last)",
      "\u001b[0;32m/anaconda3/lib/python3.7/site-packages/patsy/compat.py\u001b[0m in \u001b[0;36mcall_and_wrap_exc\u001b[0;34m(msg, origin, f, *args, **kwargs)\u001b[0m\n\u001b[1;32m     35\u001b[0m     \u001b[0;32mtry\u001b[0m\u001b[0;34m:\u001b[0m\u001b[0;34m\u001b[0m\u001b[0;34m\u001b[0m\u001b[0m\n\u001b[0;32m---> 36\u001b[0;31m         \u001b[0;32mreturn\u001b[0m \u001b[0mf\u001b[0m\u001b[0;34m(\u001b[0m\u001b[0;34m*\u001b[0m\u001b[0margs\u001b[0m\u001b[0;34m,\u001b[0m \u001b[0;34m**\u001b[0m\u001b[0mkwargs\u001b[0m\u001b[0;34m)\u001b[0m\u001b[0;34m\u001b[0m\u001b[0;34m\u001b[0m\u001b[0m\n\u001b[0m\u001b[1;32m     37\u001b[0m     \u001b[0;32mexcept\u001b[0m \u001b[0mException\u001b[0m \u001b[0;32mas\u001b[0m \u001b[0me\u001b[0m\u001b[0;34m:\u001b[0m\u001b[0;34m\u001b[0m\u001b[0;34m\u001b[0m\u001b[0m\n",
      "\u001b[0;32m/anaconda3/lib/python3.7/site-packages/patsy/eval.py\u001b[0m in \u001b[0;36meval\u001b[0;34m(self, expr, source_name, inner_namespace)\u001b[0m\n\u001b[1;32m    165\u001b[0m         return eval(code, {}, VarLookupDict([inner_namespace]\n\u001b[0;32m--> 166\u001b[0;31m                                             + self._namespaces))\n\u001b[0m\u001b[1;32m    167\u001b[0m \u001b[0;34m\u001b[0m\u001b[0m\n",
      "\u001b[0;32m<string>\u001b[0m in \u001b[0;36m<module>\u001b[0;34m\u001b[0m\n",
      "\u001b[0;32m/anaconda3/lib/python3.7/site-packages/patsy/eval.py\u001b[0m in \u001b[0;36m__getitem__\u001b[0;34m(self, key)\u001b[0m\n\u001b[1;32m     47\u001b[0m             \u001b[0;32mtry\u001b[0m\u001b[0;34m:\u001b[0m\u001b[0;34m\u001b[0m\u001b[0;34m\u001b[0m\u001b[0m\n\u001b[0;32m---> 48\u001b[0;31m                 \u001b[0;32mreturn\u001b[0m \u001b[0md\u001b[0m\u001b[0;34m[\u001b[0m\u001b[0mkey\u001b[0m\u001b[0;34m]\u001b[0m\u001b[0;34m\u001b[0m\u001b[0;34m\u001b[0m\u001b[0m\n\u001b[0m\u001b[1;32m     49\u001b[0m             \u001b[0;32mexcept\u001b[0m \u001b[0mKeyError\u001b[0m\u001b[0;34m:\u001b[0m\u001b[0;34m\u001b[0m\u001b[0;34m\u001b[0m\u001b[0m\n",
      "\u001b[0;32m/anaconda3/lib/python3.7/site-packages/patsy/eval.py\u001b[0m in \u001b[0;36m__getitem__\u001b[0;34m(self, key)\u001b[0m\n\u001b[1;32m     47\u001b[0m             \u001b[0;32mtry\u001b[0m\u001b[0;34m:\u001b[0m\u001b[0;34m\u001b[0m\u001b[0;34m\u001b[0m\u001b[0m\n\u001b[0;32m---> 48\u001b[0;31m                 \u001b[0;32mreturn\u001b[0m \u001b[0md\u001b[0m\u001b[0;34m[\u001b[0m\u001b[0mkey\u001b[0m\u001b[0;34m]\u001b[0m\u001b[0;34m\u001b[0m\u001b[0;34m\u001b[0m\u001b[0m\n\u001b[0m\u001b[1;32m     49\u001b[0m             \u001b[0;32mexcept\u001b[0m \u001b[0mKeyError\u001b[0m\u001b[0;34m:\u001b[0m\u001b[0;34m\u001b[0m\u001b[0;34m\u001b[0m\u001b[0m\n",
      "\u001b[0;31mTypeError\u001b[0m: list indices must be integers or slices, not str",
      "\nThe above exception was the direct cause of the following exception:\n",
      "\u001b[0;31mPatsyError\u001b[0m                                Traceback (most recent call last)",
      "\u001b[0;32m<ipython-input-35-f4881020deff>\u001b[0m in \u001b[0;36m<module>\u001b[0;34m\u001b[0m\n\u001b[1;32m      4\u001b[0m \u001b[0;34m\u001b[0m\u001b[0m\n\u001b[1;32m      5\u001b[0m \u001b[0mformula\u001b[0m \u001b[0;34m=\u001b[0m \u001b[0;34m'range(len(lst_nm)) ~ C(mean_discounts)'\u001b[0m\u001b[0;34m\u001b[0m\u001b[0;34m\u001b[0m\u001b[0m\n\u001b[0;32m----> 6\u001b[0;31m \u001b[0mlm\u001b[0m \u001b[0;34m=\u001b[0m \u001b[0mols\u001b[0m\u001b[0;34m(\u001b[0m\u001b[0mformula\u001b[0m\u001b[0;34m,\u001b[0m \u001b[0mmean_discounts\u001b[0m\u001b[0;34m)\u001b[0m\u001b[0;34m.\u001b[0m\u001b[0mfit\u001b[0m\u001b[0;34m(\u001b[0m\u001b[0;34m)\u001b[0m\u001b[0;34m\u001b[0m\u001b[0;34m\u001b[0m\u001b[0m\n\u001b[0m\u001b[1;32m      7\u001b[0m \u001b[0mtable\u001b[0m \u001b[0;34m=\u001b[0m \u001b[0msm\u001b[0m\u001b[0;34m.\u001b[0m\u001b[0mstats\u001b[0m\u001b[0;34m.\u001b[0m\u001b[0manova_lm\u001b[0m\u001b[0;34m(\u001b[0m\u001b[0mlm\u001b[0m\u001b[0;34m,\u001b[0m \u001b[0mtyp\u001b[0m\u001b[0;34m=\u001b[0m\u001b[0;36m2\u001b[0m\u001b[0;34m)\u001b[0m\u001b[0;34m\u001b[0m\u001b[0;34m\u001b[0m\u001b[0m\n\u001b[1;32m      8\u001b[0m \u001b[0mprint\u001b[0m\u001b[0;34m(\u001b[0m\u001b[0mtable\u001b[0m\u001b[0;34m)\u001b[0m\u001b[0;34m\u001b[0m\u001b[0;34m\u001b[0m\u001b[0m\n",
      "\u001b[0;32m/anaconda3/lib/python3.7/site-packages/statsmodels/base/model.py\u001b[0m in \u001b[0;36mfrom_formula\u001b[0;34m(cls, formula, data, subset, drop_cols, *args, **kwargs)\u001b[0m\n\u001b[1;32m    153\u001b[0m \u001b[0;34m\u001b[0m\u001b[0m\n\u001b[1;32m    154\u001b[0m         tmp = handle_formula_data(data, None, formula, depth=eval_env,\n\u001b[0;32m--> 155\u001b[0;31m                                   missing=missing)\n\u001b[0m\u001b[1;32m    156\u001b[0m         \u001b[0;34m(\u001b[0m\u001b[0;34m(\u001b[0m\u001b[0mendog\u001b[0m\u001b[0;34m,\u001b[0m \u001b[0mexog\u001b[0m\u001b[0;34m)\u001b[0m\u001b[0;34m,\u001b[0m \u001b[0mmissing_idx\u001b[0m\u001b[0;34m,\u001b[0m \u001b[0mdesign_info\u001b[0m\u001b[0;34m)\u001b[0m \u001b[0;34m=\u001b[0m \u001b[0mtmp\u001b[0m\u001b[0;34m\u001b[0m\u001b[0;34m\u001b[0m\u001b[0m\n\u001b[1;32m    157\u001b[0m \u001b[0;34m\u001b[0m\u001b[0m\n",
      "\u001b[0;32m/anaconda3/lib/python3.7/site-packages/statsmodels/formula/formulatools.py\u001b[0m in \u001b[0;36mhandle_formula_data\u001b[0;34m(Y, X, formula, depth, missing)\u001b[0m\n\u001b[1;32m     66\u001b[0m         \u001b[0;32melse\u001b[0m\u001b[0;34m:\u001b[0m\u001b[0;34m\u001b[0m\u001b[0;34m\u001b[0m\u001b[0m\n\u001b[1;32m     67\u001b[0m             result = dmatrices(formula, Y, depth, return_type='dataframe',\n\u001b[0;32m---> 68\u001b[0;31m                                NA_action=na_action)\n\u001b[0m\u001b[1;32m     69\u001b[0m \u001b[0;34m\u001b[0m\u001b[0m\n\u001b[1;32m     70\u001b[0m     \u001b[0;31m# if missing == 'raise' there's not missing_mask\u001b[0m\u001b[0;34m\u001b[0m\u001b[0;34m\u001b[0m\u001b[0;34m\u001b[0m\u001b[0m\n",
      "\u001b[0;32m/anaconda3/lib/python3.7/site-packages/patsy/highlevel.py\u001b[0m in \u001b[0;36mdmatrices\u001b[0;34m(formula_like, data, eval_env, NA_action, return_type)\u001b[0m\n\u001b[1;32m    308\u001b[0m     \u001b[0meval_env\u001b[0m \u001b[0;34m=\u001b[0m \u001b[0mEvalEnvironment\u001b[0m\u001b[0;34m.\u001b[0m\u001b[0mcapture\u001b[0m\u001b[0;34m(\u001b[0m\u001b[0meval_env\u001b[0m\u001b[0;34m,\u001b[0m \u001b[0mreference\u001b[0m\u001b[0;34m=\u001b[0m\u001b[0;36m1\u001b[0m\u001b[0;34m)\u001b[0m\u001b[0;34m\u001b[0m\u001b[0;34m\u001b[0m\u001b[0m\n\u001b[1;32m    309\u001b[0m     (lhs, rhs) = _do_highlevel_design(formula_like, data, eval_env,\n\u001b[0;32m--> 310\u001b[0;31m                                       NA_action, return_type)\n\u001b[0m\u001b[1;32m    311\u001b[0m     \u001b[0;32mif\u001b[0m \u001b[0mlhs\u001b[0m\u001b[0;34m.\u001b[0m\u001b[0mshape\u001b[0m\u001b[0;34m[\u001b[0m\u001b[0;36m1\u001b[0m\u001b[0;34m]\u001b[0m \u001b[0;34m==\u001b[0m \u001b[0;36m0\u001b[0m\u001b[0;34m:\u001b[0m\u001b[0;34m\u001b[0m\u001b[0;34m\u001b[0m\u001b[0m\n\u001b[1;32m    312\u001b[0m         \u001b[0;32mraise\u001b[0m \u001b[0mPatsyError\u001b[0m\u001b[0;34m(\u001b[0m\u001b[0;34m\"model is missing required outcome variables\"\u001b[0m\u001b[0;34m)\u001b[0m\u001b[0;34m\u001b[0m\u001b[0;34m\u001b[0m\u001b[0m\n",
      "\u001b[0;32m/anaconda3/lib/python3.7/site-packages/patsy/highlevel.py\u001b[0m in \u001b[0;36m_do_highlevel_design\u001b[0;34m(formula_like, data, eval_env, NA_action, return_type)\u001b[0m\n\u001b[1;32m    163\u001b[0m         \u001b[0;32mreturn\u001b[0m \u001b[0miter\u001b[0m\u001b[0;34m(\u001b[0m\u001b[0;34m[\u001b[0m\u001b[0mdata\u001b[0m\u001b[0;34m]\u001b[0m\u001b[0;34m)\u001b[0m\u001b[0;34m\u001b[0m\u001b[0;34m\u001b[0m\u001b[0m\n\u001b[1;32m    164\u001b[0m     design_infos = _try_incr_builders(formula_like, data_iter_maker, eval_env,\n\u001b[0;32m--> 165\u001b[0;31m                                       NA_action)\n\u001b[0m\u001b[1;32m    166\u001b[0m     \u001b[0;32mif\u001b[0m \u001b[0mdesign_infos\u001b[0m \u001b[0;32mis\u001b[0m \u001b[0;32mnot\u001b[0m \u001b[0;32mNone\u001b[0m\u001b[0;34m:\u001b[0m\u001b[0;34m\u001b[0m\u001b[0;34m\u001b[0m\u001b[0m\n\u001b[1;32m    167\u001b[0m         return build_design_matrices(design_infos, data,\n",
      "\u001b[0;32m/anaconda3/lib/python3.7/site-packages/patsy/highlevel.py\u001b[0m in \u001b[0;36m_try_incr_builders\u001b[0;34m(formula_like, data_iter_maker, eval_env, NA_action)\u001b[0m\n\u001b[1;32m     68\u001b[0m                                       \u001b[0mdata_iter_maker\u001b[0m\u001b[0;34m,\u001b[0m\u001b[0;34m\u001b[0m\u001b[0;34m\u001b[0m\u001b[0m\n\u001b[1;32m     69\u001b[0m                                       \u001b[0meval_env\u001b[0m\u001b[0;34m,\u001b[0m\u001b[0;34m\u001b[0m\u001b[0;34m\u001b[0m\u001b[0m\n\u001b[0;32m---> 70\u001b[0;31m                                       NA_action)\n\u001b[0m\u001b[1;32m     71\u001b[0m     \u001b[0;32melse\u001b[0m\u001b[0;34m:\u001b[0m\u001b[0;34m\u001b[0m\u001b[0;34m\u001b[0m\u001b[0m\n\u001b[1;32m     72\u001b[0m         \u001b[0;32mreturn\u001b[0m \u001b[0;32mNone\u001b[0m\u001b[0;34m\u001b[0m\u001b[0;34m\u001b[0m\u001b[0m\n",
      "\u001b[0;32m/anaconda3/lib/python3.7/site-packages/patsy/build.py\u001b[0m in \u001b[0;36mdesign_matrix_builders\u001b[0;34m(termlists, data_iter_maker, eval_env, NA_action)\u001b[0m\n\u001b[1;32m    694\u001b[0m                                                    \u001b[0mfactor_states\u001b[0m\u001b[0;34m,\u001b[0m\u001b[0;34m\u001b[0m\u001b[0;34m\u001b[0m\u001b[0m\n\u001b[1;32m    695\u001b[0m                                                    \u001b[0mdata_iter_maker\u001b[0m\u001b[0;34m,\u001b[0m\u001b[0;34m\u001b[0m\u001b[0;34m\u001b[0m\u001b[0m\n\u001b[0;32m--> 696\u001b[0;31m                                                    NA_action)\n\u001b[0m\u001b[1;32m    697\u001b[0m     \u001b[0;31m# Now we need the factor infos, which encapsulate the knowledge of\u001b[0m\u001b[0;34m\u001b[0m\u001b[0;34m\u001b[0m\u001b[0;34m\u001b[0m\u001b[0m\n\u001b[1;32m    698\u001b[0m     \u001b[0;31m# how to turn any given factor into a chunk of data:\u001b[0m\u001b[0;34m\u001b[0m\u001b[0;34m\u001b[0m\u001b[0;34m\u001b[0m\u001b[0m\n",
      "\u001b[0;32m/anaconda3/lib/python3.7/site-packages/patsy/build.py\u001b[0m in \u001b[0;36m_examine_factor_types\u001b[0;34m(factors, factor_states, data_iter_maker, NA_action)\u001b[0m\n\u001b[1;32m    441\u001b[0m     \u001b[0;32mfor\u001b[0m \u001b[0mdata\u001b[0m \u001b[0;32min\u001b[0m \u001b[0mdata_iter_maker\u001b[0m\u001b[0;34m(\u001b[0m\u001b[0;34m)\u001b[0m\u001b[0;34m:\u001b[0m\u001b[0;34m\u001b[0m\u001b[0;34m\u001b[0m\u001b[0m\n\u001b[1;32m    442\u001b[0m         \u001b[0;32mfor\u001b[0m \u001b[0mfactor\u001b[0m \u001b[0;32min\u001b[0m \u001b[0mlist\u001b[0m\u001b[0;34m(\u001b[0m\u001b[0mexamine_needed\u001b[0m\u001b[0;34m)\u001b[0m\u001b[0;34m:\u001b[0m\u001b[0;34m\u001b[0m\u001b[0;34m\u001b[0m\u001b[0m\n\u001b[0;32m--> 443\u001b[0;31m             \u001b[0mvalue\u001b[0m \u001b[0;34m=\u001b[0m \u001b[0mfactor\u001b[0m\u001b[0;34m.\u001b[0m\u001b[0meval\u001b[0m\u001b[0;34m(\u001b[0m\u001b[0mfactor_states\u001b[0m\u001b[0;34m[\u001b[0m\u001b[0mfactor\u001b[0m\u001b[0;34m]\u001b[0m\u001b[0;34m,\u001b[0m \u001b[0mdata\u001b[0m\u001b[0;34m)\u001b[0m\u001b[0;34m\u001b[0m\u001b[0;34m\u001b[0m\u001b[0m\n\u001b[0m\u001b[1;32m    444\u001b[0m             \u001b[0;32mif\u001b[0m \u001b[0mfactor\u001b[0m \u001b[0;32min\u001b[0m \u001b[0mcat_sniffers\u001b[0m \u001b[0;32mor\u001b[0m \u001b[0mguess_categorical\u001b[0m\u001b[0;34m(\u001b[0m\u001b[0mvalue\u001b[0m\u001b[0;34m)\u001b[0m\u001b[0;34m:\u001b[0m\u001b[0;34m\u001b[0m\u001b[0;34m\u001b[0m\u001b[0m\n\u001b[1;32m    445\u001b[0m                 \u001b[0;32mif\u001b[0m \u001b[0mfactor\u001b[0m \u001b[0;32mnot\u001b[0m \u001b[0;32min\u001b[0m \u001b[0mcat_sniffers\u001b[0m\u001b[0;34m:\u001b[0m\u001b[0;34m\u001b[0m\u001b[0;34m\u001b[0m\u001b[0m\n",
      "\u001b[0;32m/anaconda3/lib/python3.7/site-packages/patsy/eval.py\u001b[0m in \u001b[0;36meval\u001b[0;34m(self, memorize_state, data)\u001b[0m\n\u001b[1;32m    564\u001b[0m         return self._eval(memorize_state[\"eval_code\"],\n\u001b[1;32m    565\u001b[0m                           \u001b[0mmemorize_state\u001b[0m\u001b[0;34m,\u001b[0m\u001b[0;34m\u001b[0m\u001b[0;34m\u001b[0m\u001b[0m\n\u001b[0;32m--> 566\u001b[0;31m                           data)\n\u001b[0m\u001b[1;32m    567\u001b[0m \u001b[0;34m\u001b[0m\u001b[0m\n\u001b[1;32m    568\u001b[0m     \u001b[0m__getstate__\u001b[0m \u001b[0;34m=\u001b[0m \u001b[0mno_pickling\u001b[0m\u001b[0;34m\u001b[0m\u001b[0;34m\u001b[0m\u001b[0m\n",
      "\u001b[0;32m/anaconda3/lib/python3.7/site-packages/patsy/eval.py\u001b[0m in \u001b[0;36m_eval\u001b[0;34m(self, code, memorize_state, data)\u001b[0m\n\u001b[1;32m    549\u001b[0m                                  \u001b[0mmemorize_state\u001b[0m\u001b[0;34m[\u001b[0m\u001b[0;34m\"eval_env\"\u001b[0m\u001b[0;34m]\u001b[0m\u001b[0;34m.\u001b[0m\u001b[0meval\u001b[0m\u001b[0;34m,\u001b[0m\u001b[0;34m\u001b[0m\u001b[0;34m\u001b[0m\u001b[0m\n\u001b[1;32m    550\u001b[0m                                  \u001b[0mcode\u001b[0m\u001b[0;34m,\u001b[0m\u001b[0;34m\u001b[0m\u001b[0;34m\u001b[0m\u001b[0m\n\u001b[0;32m--> 551\u001b[0;31m                                  inner_namespace=inner_namespace)\n\u001b[0m\u001b[1;32m    552\u001b[0m \u001b[0;34m\u001b[0m\u001b[0m\n\u001b[1;32m    553\u001b[0m     \u001b[0;32mdef\u001b[0m \u001b[0mmemorize_chunk\u001b[0m\u001b[0;34m(\u001b[0m\u001b[0mself\u001b[0m\u001b[0;34m,\u001b[0m \u001b[0mstate\u001b[0m\u001b[0;34m,\u001b[0m \u001b[0mwhich_pass\u001b[0m\u001b[0;34m,\u001b[0m \u001b[0mdata\u001b[0m\u001b[0;34m)\u001b[0m\u001b[0;34m:\u001b[0m\u001b[0;34m\u001b[0m\u001b[0;34m\u001b[0m\u001b[0m\n",
      "\u001b[0;32m/anaconda3/lib/python3.7/site-packages/patsy/compat.py\u001b[0m in \u001b[0;36mcall_and_wrap_exc\u001b[0;34m(msg, origin, f, *args, **kwargs)\u001b[0m\n\u001b[1;32m     41\u001b[0m                                  origin)\n\u001b[1;32m     42\u001b[0m             \u001b[0;31m# Use 'exec' to hide this syntax from the Python 2 parser:\u001b[0m\u001b[0;34m\u001b[0m\u001b[0;34m\u001b[0m\u001b[0;34m\u001b[0m\u001b[0m\n\u001b[0;32m---> 43\u001b[0;31m             \u001b[0mexec\u001b[0m\u001b[0;34m(\u001b[0m\u001b[0;34m\"raise new_exc from e\"\u001b[0m\u001b[0;34m)\u001b[0m\u001b[0;34m\u001b[0m\u001b[0;34m\u001b[0m\u001b[0m\n\u001b[0m\u001b[1;32m     44\u001b[0m         \u001b[0;32melse\u001b[0m\u001b[0;34m:\u001b[0m\u001b[0;34m\u001b[0m\u001b[0;34m\u001b[0m\u001b[0m\n\u001b[1;32m     45\u001b[0m             \u001b[0;31m# In python 2, we just let the original exception escape -- better\u001b[0m\u001b[0;34m\u001b[0m\u001b[0;34m\u001b[0m\u001b[0;34m\u001b[0m\u001b[0m\n",
      "\u001b[0;32m/anaconda3/lib/python3.7/site-packages/patsy/compat.py\u001b[0m in \u001b[0;36m<module>\u001b[0;34m\u001b[0m\n",
      "\u001b[0;31mPatsyError\u001b[0m: Error evaluating factor: TypeError: list indices must be integers or slices, not str\n    range(len(lst_nm)) ~ C(mean_discounts)\n    ^^^^^^^^^^^^^^^^^^"
     ]
    }
   ],
   "source": [
    "#first we get our information in a dataframe\n",
    "\n",
    "formula = 'lst_nm ~ C(mean_discounts)'\n",
    "lm = ols(formula, mean_discounts).fit()\n",
    "table = sm.stats.anova_lm(lm, typ=2)\n",
    "print(table)"
   ]
  },
  {
   "cell_type": "code",
   "execution_count": 95,
   "metadata": {},
   "outputs": [
    {
     "name": "stdout",
     "output_type": "stream",
     "text": [
      "Cohen's d df_Disc05 = 0.29335411856625043\n",
      "Cohen's d df_Disc10 = 0.18846987826002382\n",
      "Cohen's d df_Disc15 = 0.3724041317472815\n",
      "Cohen's d df_Disc20 = 0.3007122542913558\n",
      "Cohen's d df_Disc25 = 0.36659255652674483\n"
     ]
    }
   ],
   "source": [
    "for discount in range(len(lst_nm)):\n",
    "    print(f'Cohen\\'s d {lst_nm[discount]} = {Cohen_d(df_collection[lst_nm[discount]].Quantity, df_D0.Quantity)}')"
   ]
  },
  {
   "cell_type": "markdown",
   "metadata": {},
   "source": [
    "We Reject the NULL hypothesis and accept our Alternative hypothesis that the Discounts have an effect on the Porducts sold.\n",
    "\n",
    "\n",
    "### 5. Draw conclusions\n",
    "\n",
    "Generally, values below 0.20 are considered small, 0.50 medium and 0.80 large. From our dataframes, we note that the 10% discount is the smallest of all and that the 15% and 25% the highest. These last 2 would be of more interest to analyze further. "
   ]
  },
  {
   "cell_type": "markdown",
   "metadata": {},
   "source": [
    "### Question 2:  If I choose a random sample of Undiscounted products sold and Discounted products sold, what is the probability that the Undiscounted are smaller than the Discounted. "
   ]
  },
  {
   "cell_type": "markdown",
   "metadata": {},
   "source": [
    "We can quantify this difference by calculating the probability of superiority"
   ]
  },
  {
   "cell_type": "code",
   "execution_count": null,
   "metadata": {},
   "outputs": [],
   "source": [
    "# We need a random sample of both Undiscounted and Discounted product sold\n",
    "sample_size= 1000\n",
    "df_Disc_Quantity_sample = sample_data(df_Disc.Quantity, sample_size)\n",
    "df_D0_Quantity_sample = sample_data(df_D0.Quantity, sample_size)\n",
    "\n",
    "#and use the zip() function to sum sample by sample the times where Undiscounted products sold is \n",
    "#smaller than Discounted\n",
    "superiority_sample= sum(x > y for x, y in zip(df_Disc_Quantity_sample,df_D0_Quantity_sample))/sample_size\n",
    "print(f'{round(superiority_sample*100,1)}% of probability that Discounted product quantity sold is larger than Undiscounted')"
   ]
  },
  {
   "cell_type": "code",
   "execution_count": null,
   "metadata": {},
   "outputs": [],
   "source": [
    "#per discount type\n",
    "sample_size= 1000\n",
    "df_D0_Quantity_sample = sample_data(df_D0.Quantity, sample_size)\n",
    "\n",
    "for discount in range(len(lst_nm)):\n",
    "    df_Disc_Quantity_sample = sample_data(df_collection[lst_nm[discount]].Quantity, sample_size)\n",
    "    superiority_sample= sum(x > y for x, y in zip(df_Disc_Quantity_sample,df_D0_Quantity_sample))/sample_size\n",
    "    print(f'{round(superiority_sample*100,1)}% of probability that {lst_nm[discount]} Discounted ' \n",
    "          'product quantity sold is larger than Undiscounted')"
   ]
  },
  {
   "cell_type": "code",
   "execution_count": null,
   "metadata": {},
   "outputs": [],
   "source": [
    "warnings.filterwarnings(\"default\", category=FutureWarning)"
   ]
  },
  {
   "cell_type": "code",
   "execution_count": null,
   "metadata": {},
   "outputs": [],
   "source": []
  }
 ],
 "metadata": {
  "kernelspec": {
   "display_name": "Python 3",
   "language": "python",
   "name": "python3"
  },
  "language_info": {
   "codemirror_mode": {
    "name": "ipython",
    "version": 3
   },
   "file_extension": ".py",
   "mimetype": "text/x-python",
   "name": "python",
   "nbconvert_exporter": "python",
   "pygments_lexer": "ipython3",
   "version": "3.7.1"
  }
 },
 "nbformat": 4,
 "nbformat_minor": 2
}
