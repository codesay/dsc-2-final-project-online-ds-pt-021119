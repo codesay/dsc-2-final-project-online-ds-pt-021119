{
 "cells": [
  {
   "cell_type": "markdown",
   "metadata": {},
   "source": [
    "# Module 02 Project#\n",
    "\n",
    "## Introduction##\n",
    "\n",
    "This project provides a .csv database for a ficticious company named \"Northwind Traders\".\n",
    "\n",
    "The database captures all the sales transactions that occurs between the company i.e. Northwind traders and its customers as well as the purchase transactions between Northwind and its suppliers.\n",
    "\n",
    "From this database, we will look to generate analytical insights that could be of value to the company via the use of our statistical analysis and hypothesis testing.\n",
    "\n",
    "I will conduct my experiment based on the general structure of experimental design:\n",
    "\n",
    "1. **Make an observation**\n",
    "\n",
    "2. **Examine the research**\n",
    "\n",
    "3. **Form a Hypothesis** \n",
    "\n",
    "4. **Conduct an experiment and/or gather your of Data** \n",
    "\n",
    "5. **Analyze the Results**\n",
    "\n",
    "6. **Draw Conclusions** \n",
    "\n",
    "\n",
    "\n",
    "### 1. Make an observation###\n",
    "\n",
    "The database has tables reflecting orders sold, customers placing orders, employees, regions where customers and also the employes are located, etc. A complete schema of the Northwind database is here\n",
    "\n",
    "The following ERD Diagram describes the Northwind Traders Database:\n",
    "\n",
    "<img src='Northwind_ERD.png'>\n",
    "\n",
    "\n",
    "Must companies are interested in their performance: levels of sale, quantities, times, profitability and  there are a number of questions I consider would be helpful to learn about Northwind.\n",
    "\n",
    "### 2. Examine research### \n",
    "\n",
    "Looking at our database schema I have areas of interest that would like to explore further. These are posed as questions below and will be answered in this project.\n",
    "\n",
    "**Question 1:** Do discounts have a statistically significant effect in the number of product customers order? If so, at what level(s) of discount?\n",
    "\n",
    "**Question 2:** If I choose a random sample of Undiscounted products sold and Discounted products sold, what is the probability that the Undiscounted are smaller than the Discounted\n",
    "\n",
    "**Question 3:** Does a particular product (or category) sell better in different Regions?\n",
    "\n",
    "**Question 4:** Is the profit of a particular product (or category) affected by the Region?\n",
    "\n",
    "**Question 5:** Does the sale of a product (ex: most profitable) change by Season? \n",
    "\n",
    "**Question 6:** Does the total cost of an order affect the cost of freight used? per shipper?\n",
    "\n",
    "### Question 1: Do discounts have a statistically significant effect in the number of product customers order? If so, at what level(s) of discount?\n",
    "\n",
    "\n",
    "### 3. Form a hypothesis\n",
    "\n",
    "#### Null hypothesis statement\n",
    "\n",
    "First thing I try to identify is the change in the quantity of products sold based on discount. The null-hypothesis addresses the fact that there is no change and sales of products with or without discount is exactly the same. \n",
    "\n",
    ">$H_{0}$: *The discount of a product does not have a significant effect on the number of products ordered* \n",
    "\n",
    "\n",
    "\n",
    "#### Alternate hypothesis\n",
    "    \n",
    "Our alternate hypothesis is that there is a change in the quantity of products sold based on discount.\n",
    "\n",
    ">$H_{A}$: *The discount of a product does have a significant effect on the number of products ordered*\n",
    "\n",
    "\n",
    "\n",
    "### 4. Conduct an experiment"
   ]
  },
  {
   "cell_type": "markdown",
   "metadata": {},
   "source": [
    "First we gather our data by loading the necessary libaries, opening database and start query of data\n"
   ]
  },
  {
   "cell_type": "code",
   "execution_count": 182,
   "metadata": {},
   "outputs": [
    {
     "name": "stdout",
     "output_type": "stream",
     "text": [
      "2019-06-13 12:30:58,426 INFO sqlalchemy.engine.base.Engine SELECT CAST('test plain returns' AS VARCHAR(60)) AS anon_1\n",
      "2019-06-13 12:30:58,427 INFO sqlalchemy.engine.base.Engine ()\n",
      "2019-06-13 12:30:58,453 INFO sqlalchemy.engine.base.Engine SELECT CAST('test unicode returns' AS VARCHAR(60)) AS anon_1\n",
      "2019-06-13 12:30:58,454 INFO sqlalchemy.engine.base.Engine ()\n"
     ]
    }
   ],
   "source": [
    "# Importing the required libraries\n",
    "from sqlalchemy import create_engine\n",
    "from sqlalchemy.orm import Session, sessionmaker\n",
    "import pandas as pd\n",
    "import seaborn as sns\n",
    "import matplotlib.pyplot as plt\n",
    "import numpy as np\n",
    "import statsmodels.formula.api as smf\n",
    "import scipy.stats as stats\n",
    "from scipy.stats import kurtosis, skew\n",
    "\n",
    "# Ignoring the FutureWarnings to allow smooth run of code (graphs)\n",
    "import warnings\n",
    "warnings.filterwarnings(\"ignore\", category=FutureWarning)\n",
    "\n",
    "# Creating an engine and connecting to a database with SQLAlchemy\n",
    "engine = create_engine('sqlite:///Northwind_small.sqlite', echo=True)\n",
    "Session = sessionmaker(bind=engine)\n",
    "session = Session()\n",
    "con = engine.connect()"
   ]
  },
  {
   "cell_type": "code",
   "execution_count": 183,
   "metadata": {},
   "outputs": [
    {
     "name": "stdout",
     "output_type": "stream",
     "text": [
      "2019-06-13 12:31:01,338 INFO sqlalchemy.engine.base.Engine SELECT name FROM sqlite_master WHERE type='table' ORDER BY name\n",
      "2019-06-13 12:31:01,339 INFO sqlalchemy.engine.base.Engine ()\n",
      "['Category', 'Customer', 'CustomerCustomerDemo', 'CustomerDemographic', 'Employee', 'EmployeeTerritory', 'Order', 'OrderDetail', 'Product', 'Region', 'Shipper', 'Supplier', 'Territory']\n"
     ]
    }
   ],
   "source": [
    "# Inspect tables to confirm table names match\n",
    "from sqlalchemy import inspect\n",
    "\n",
    "inspector = inspect(engine)\n",
    "print(inspector.get_table_names())"
   ]
  },
  {
   "cell_type": "code",
   "execution_count": 184,
   "metadata": {},
   "outputs": [],
   "source": [
    "# define a function to inspect tables and confirm column names for the tables I plan on using\n",
    "def get_columns_info(table_name):\n",
    "    columns_list = inspector.get_columns(table_name)\n",
    "    print (\"Table Name: {}\".format(table_name))\n",
    "    for column in columns_list:\n",
    "        print(\"Column: {}\\t\\tType:{}\".format(column['name'],column['type']))\n",
    "    print(\"\")"
   ]
  },
  {
   "cell_type": "code",
   "execution_count": 185,
   "metadata": {},
   "outputs": [
    {
     "name": "stdout",
     "output_type": "stream",
     "text": [
      "2019-06-13 12:31:06,128 INFO sqlalchemy.engine.base.Engine PRAGMA table_info(\"OrderDetail\")\n",
      "2019-06-13 12:31:06,129 INFO sqlalchemy.engine.base.Engine ()\n",
      "Table Name: OrderDetail\n",
      "Column: Id\t\tType:VARCHAR(8000)\n",
      "Column: OrderId\t\tType:INTEGER\n",
      "Column: ProductId\t\tType:INTEGER\n",
      "Column: UnitPrice\t\tType:DECIMAL\n",
      "Column: Quantity\t\tType:INTEGER\n",
      "Column: Discount\t\tType:FLOAT\n",
      "\n"
     ]
    }
   ],
   "source": [
    "# print the columns for my tables of interest\n",
    "#get_columns_info('Customer')\n",
    "#get_columns_info('CustomerDemographic') # this is empty\n",
    "#get_columns_info('Order')\n",
    "get_columns_info('OrderDetail')\n",
    "#get_columns_info('Product')\n",
    "#get_columns_info('Category')"
   ]
  },
  {
   "cell_type": "code",
   "execution_count": 186,
   "metadata": {},
   "outputs": [
    {
     "name": "stdout",
     "output_type": "stream",
     "text": [
      "2019-06-13 12:31:08,941 INFO sqlalchemy.engine.base.Engine  SELECT p.ProductName, cat.CategoryName, p.UnitPrice, od.UnitPrice, od.Discount, od.Quantity, o.Id\n",
      "FROM Product p \n",
      "JOIN Category cat ON p.CategoryId = cat.Id\n",
      "JOIN OrderDetail od ON p.ID = od.ProductId\n",
      "JOIN [Order] o ON od.OrderId = o.Id\n",
      "2019-06-13 12:31:08,944 INFO sqlalchemy.engine.base.Engine ()\n",
      "2155\n"
     ]
    },
    {
     "data": {
      "text/html": [
       "<div>\n",
       "<style scoped>\n",
       "    .dataframe tbody tr th:only-of-type {\n",
       "        vertical-align: middle;\n",
       "    }\n",
       "\n",
       "    .dataframe tbody tr th {\n",
       "        vertical-align: top;\n",
       "    }\n",
       "\n",
       "    .dataframe thead th {\n",
       "        text-align: right;\n",
       "    }\n",
       "</style>\n",
       "<table border=\"1\" class=\"dataframe\">\n",
       "  <thead>\n",
       "    <tr style=\"text-align: right;\">\n",
       "      <th></th>\n",
       "      <th>ProductName</th>\n",
       "      <th>CategoryName</th>\n",
       "      <th>UnitPrice</th>\n",
       "      <th>UnitPrice</th>\n",
       "      <th>Discount</th>\n",
       "      <th>Quantity</th>\n",
       "      <th>Id</th>\n",
       "    </tr>\n",
       "  </thead>\n",
       "  <tbody>\n",
       "    <tr>\n",
       "      <th>0</th>\n",
       "      <td>Queso Cabrales</td>\n",
       "      <td>Dairy Products</td>\n",
       "      <td>21.00</td>\n",
       "      <td>14.0</td>\n",
       "      <td>0.00</td>\n",
       "      <td>12</td>\n",
       "      <td>10248</td>\n",
       "    </tr>\n",
       "    <tr>\n",
       "      <th>1</th>\n",
       "      <td>Singaporean Hokkien Fried Mee</td>\n",
       "      <td>Grains/Cereals</td>\n",
       "      <td>14.00</td>\n",
       "      <td>9.8</td>\n",
       "      <td>0.00</td>\n",
       "      <td>10</td>\n",
       "      <td>10248</td>\n",
       "    </tr>\n",
       "    <tr>\n",
       "      <th>2</th>\n",
       "      <td>Mozzarella di Giovanni</td>\n",
       "      <td>Dairy Products</td>\n",
       "      <td>34.80</td>\n",
       "      <td>34.8</td>\n",
       "      <td>0.00</td>\n",
       "      <td>5</td>\n",
       "      <td>10248</td>\n",
       "    </tr>\n",
       "    <tr>\n",
       "      <th>3</th>\n",
       "      <td>Tofu</td>\n",
       "      <td>Produce</td>\n",
       "      <td>23.25</td>\n",
       "      <td>18.6</td>\n",
       "      <td>0.00</td>\n",
       "      <td>9</td>\n",
       "      <td>10249</td>\n",
       "    </tr>\n",
       "    <tr>\n",
       "      <th>4</th>\n",
       "      <td>Manjimup Dried Apples</td>\n",
       "      <td>Produce</td>\n",
       "      <td>53.00</td>\n",
       "      <td>42.4</td>\n",
       "      <td>0.00</td>\n",
       "      <td>40</td>\n",
       "      <td>10249</td>\n",
       "    </tr>\n",
       "    <tr>\n",
       "      <th>5</th>\n",
       "      <td>Jack's New England Clam Chowder</td>\n",
       "      <td>Seafood</td>\n",
       "      <td>9.65</td>\n",
       "      <td>7.7</td>\n",
       "      <td>0.00</td>\n",
       "      <td>10</td>\n",
       "      <td>10250</td>\n",
       "    </tr>\n",
       "    <tr>\n",
       "      <th>6</th>\n",
       "      <td>Manjimup Dried Apples</td>\n",
       "      <td>Produce</td>\n",
       "      <td>53.00</td>\n",
       "      <td>42.4</td>\n",
       "      <td>0.15</td>\n",
       "      <td>35</td>\n",
       "      <td>10250</td>\n",
       "    </tr>\n",
       "    <tr>\n",
       "      <th>7</th>\n",
       "      <td>Louisiana Fiery Hot Pepper Sauce</td>\n",
       "      <td>Condiments</td>\n",
       "      <td>21.05</td>\n",
       "      <td>16.8</td>\n",
       "      <td>0.15</td>\n",
       "      <td>15</td>\n",
       "      <td>10250</td>\n",
       "    </tr>\n",
       "    <tr>\n",
       "      <th>8</th>\n",
       "      <td>Gustaf's Knäckebröd</td>\n",
       "      <td>Grains/Cereals</td>\n",
       "      <td>21.00</td>\n",
       "      <td>16.8</td>\n",
       "      <td>0.05</td>\n",
       "      <td>6</td>\n",
       "      <td>10251</td>\n",
       "    </tr>\n",
       "    <tr>\n",
       "      <th>9</th>\n",
       "      <td>Ravioli Angelo</td>\n",
       "      <td>Grains/Cereals</td>\n",
       "      <td>19.50</td>\n",
       "      <td>15.6</td>\n",
       "      <td>0.05</td>\n",
       "      <td>15</td>\n",
       "      <td>10251</td>\n",
       "    </tr>\n",
       "  </tbody>\n",
       "</table>\n",
       "</div>"
      ],
      "text/plain": [
       "                        ProductName    CategoryName  UnitPrice  UnitPrice  \\\n",
       "0                    Queso Cabrales  Dairy Products      21.00       14.0   \n",
       "1     Singaporean Hokkien Fried Mee  Grains/Cereals      14.00        9.8   \n",
       "2            Mozzarella di Giovanni  Dairy Products      34.80       34.8   \n",
       "3                              Tofu         Produce      23.25       18.6   \n",
       "4             Manjimup Dried Apples         Produce      53.00       42.4   \n",
       "5   Jack's New England Clam Chowder         Seafood       9.65        7.7   \n",
       "6             Manjimup Dried Apples         Produce      53.00       42.4   \n",
       "7  Louisiana Fiery Hot Pepper Sauce      Condiments      21.05       16.8   \n",
       "8               Gustaf's Knäckebröd  Grains/Cereals      21.00       16.8   \n",
       "9                    Ravioli Angelo  Grains/Cereals      19.50       15.6   \n",
       "\n",
       "   Discount  Quantity     Id  \n",
       "0      0.00        12  10248  \n",
       "1      0.00        10  10248  \n",
       "2      0.00         5  10248  \n",
       "3      0.00         9  10249  \n",
       "4      0.00        40  10249  \n",
       "5      0.00        10  10250  \n",
       "6      0.15        35  10250  \n",
       "7      0.15        15  10250  \n",
       "8      0.05         6  10251  \n",
       "9      0.05        15  10251  "
      ]
     },
     "execution_count": 186,
     "metadata": {},
     "output_type": "execute_result"
    }
   ],
   "source": [
    "#run some basic query to get to know the type of data\n",
    "\n",
    "# Per product, how many sales and where (which customers)\n",
    "q_var = ''' SELECT p.ProductName, cat.CategoryName, p.UnitPrice, od.UnitPrice, od.Discount, od.Quantity, o.Id\n",
    "FROM Product p \n",
    "JOIN Category cat ON p.CategoryId = cat.Id\n",
    "JOIN OrderDetail od ON p.ID = od.ProductId\n",
    "JOIN [Order] o ON od.OrderId = o.Id'''\n",
    "\n",
    "df_tmp = pd.read_sql_query(q_var, engine)\n",
    "print(len(df_tmp))\n",
    "df_tmp.head(10)"
   ]
  },
  {
   "cell_type": "code",
   "execution_count": 8,
   "metadata": {},
   "outputs": [
    {
     "name": "stdout",
     "output_type": "stream",
     "text": [
      "2019-06-13 10:04:10,807 INFO sqlalchemy.engine.base.Engine  SELECT od.ProductId, od.UnitPrice, od.Discount, od.Quantity, od.UnitPrice*od.Quantity AS CostProduct,\n",
      "od.UnitPrice*od.Quantity*(1-od.Discount) AS DiscountedCostProduct, o.Id\n",
      "FROM [Order] o \n",
      "JOIN OrderDetail od ON od.OrderId = o.Id\n",
      "ORDER BY od.ProductId ASC\n",
      "\n",
      "2019-06-13 10:04:10,808 INFO sqlalchemy.engine.base.Engine ()\n",
      "2155\n"
     ]
    },
    {
     "data": {
      "text/html": [
       "<div>\n",
       "<style scoped>\n",
       "    .dataframe tbody tr th:only-of-type {\n",
       "        vertical-align: middle;\n",
       "    }\n",
       "\n",
       "    .dataframe tbody tr th {\n",
       "        vertical-align: top;\n",
       "    }\n",
       "\n",
       "    .dataframe thead th {\n",
       "        text-align: right;\n",
       "    }\n",
       "</style>\n",
       "<table border=\"1\" class=\"dataframe\">\n",
       "  <thead>\n",
       "    <tr style=\"text-align: right;\">\n",
       "      <th></th>\n",
       "      <th>ProductId</th>\n",
       "      <th>UnitPrice</th>\n",
       "      <th>Discount</th>\n",
       "      <th>Quantity</th>\n",
       "      <th>CostProduct</th>\n",
       "      <th>DiscountedCostProduct</th>\n",
       "      <th>Id</th>\n",
       "    </tr>\n",
       "  </thead>\n",
       "  <tbody>\n",
       "    <tr>\n",
       "      <th>0</th>\n",
       "      <td>1</td>\n",
       "      <td>14.4</td>\n",
       "      <td>0.20</td>\n",
       "      <td>45</td>\n",
       "      <td>648.0</td>\n",
       "      <td>518.4</td>\n",
       "      <td>10285</td>\n",
       "    </tr>\n",
       "    <tr>\n",
       "      <th>1</th>\n",
       "      <td>1</td>\n",
       "      <td>14.4</td>\n",
       "      <td>0.00</td>\n",
       "      <td>18</td>\n",
       "      <td>259.2</td>\n",
       "      <td>259.2</td>\n",
       "      <td>10294</td>\n",
       "    </tr>\n",
       "    <tr>\n",
       "      <th>2</th>\n",
       "      <td>1</td>\n",
       "      <td>14.4</td>\n",
       "      <td>0.00</td>\n",
       "      <td>20</td>\n",
       "      <td>288.0</td>\n",
       "      <td>288.0</td>\n",
       "      <td>10317</td>\n",
       "    </tr>\n",
       "    <tr>\n",
       "      <th>3</th>\n",
       "      <td>1</td>\n",
       "      <td>14.4</td>\n",
       "      <td>0.15</td>\n",
       "      <td>15</td>\n",
       "      <td>216.0</td>\n",
       "      <td>183.6</td>\n",
       "      <td>10348</td>\n",
       "    </tr>\n",
       "    <tr>\n",
       "      <th>4</th>\n",
       "      <td>1</td>\n",
       "      <td>14.4</td>\n",
       "      <td>0.00</td>\n",
       "      <td>12</td>\n",
       "      <td>172.8</td>\n",
       "      <td>172.8</td>\n",
       "      <td>10354</td>\n",
       "    </tr>\n",
       "  </tbody>\n",
       "</table>\n",
       "</div>"
      ],
      "text/plain": [
       "   ProductId  UnitPrice  Discount  Quantity  CostProduct  \\\n",
       "0          1       14.4      0.20        45        648.0   \n",
       "1          1       14.4      0.00        18        259.2   \n",
       "2          1       14.4      0.00        20        288.0   \n",
       "3          1       14.4      0.15        15        216.0   \n",
       "4          1       14.4      0.00        12        172.8   \n",
       "\n",
       "   DiscountedCostProduct     Id  \n",
       "0                  518.4  10285  \n",
       "1                  259.2  10294  \n",
       "2                  288.0  10317  \n",
       "3                  183.6  10348  \n",
       "4                  172.8  10354  "
      ]
     },
     "execution_count": 8,
     "metadata": {},
     "output_type": "execute_result"
    }
   ],
   "source": [
    "# Extract all the orders with their products and quantities\n",
    "q_var = ''' SELECT od.ProductId, od.UnitPrice, od.Discount, od.Quantity, od.UnitPrice*od.Quantity AS CostProduct,\n",
    "od.UnitPrice*od.Quantity*(1-od.Discount) AS DiscountedCostProduct, o.Id\n",
    "FROM [Order] o \n",
    "JOIN OrderDetail od ON od.OrderId = o.Id\n",
    "ORDER BY od.ProductId ASC\n",
    "'''\n",
    "\n",
    "df_t1 = pd.read_sql_query(q_var, engine)\n",
    "print(len(df_t1))\n",
    "df_t1.head()"
   ]
  },
  {
   "cell_type": "markdown",
   "metadata": {},
   "source": [
    "Now that we have some additional knowledge about the type of products, I would like to have the Quantity of products sold without Discount and store in a dataframe"
   ]
  },
  {
   "cell_type": "code",
   "execution_count": 187,
   "metadata": {},
   "outputs": [
    {
     "name": "stdout",
     "output_type": "stream",
     "text": [
      "2019-06-13 12:31:12,753 INFO sqlalchemy.engine.base.Engine  SELECT od.ProductId, od.UnitPrice, od.Discount, od.Quantity, od.UnitPrice*od.Quantity AS CostProduct,\n",
      "od.UnitPrice*od.Quantity*(1-od.Discount) AS DiscountedCostProduct, o.Id\n",
      "FROM [Order] o \n",
      "JOIN OrderDetail od ON od.OrderId = o.Id\n",
      "WHERE od.Discount = 0\n",
      "ORDER BY od.ProductId ASC\n",
      "\n",
      "2019-06-13 12:31:12,754 INFO sqlalchemy.engine.base.Engine ()\n",
      "1317\n",
      "21.715261958997722\n"
     ]
    },
    {
     "data": {
      "text/html": [
       "<div>\n",
       "<style scoped>\n",
       "    .dataframe tbody tr th:only-of-type {\n",
       "        vertical-align: middle;\n",
       "    }\n",
       "\n",
       "    .dataframe tbody tr th {\n",
       "        vertical-align: top;\n",
       "    }\n",
       "\n",
       "    .dataframe thead th {\n",
       "        text-align: right;\n",
       "    }\n",
       "</style>\n",
       "<table border=\"1\" class=\"dataframe\">\n",
       "  <thead>\n",
       "    <tr style=\"text-align: right;\">\n",
       "      <th></th>\n",
       "      <th>ProductId</th>\n",
       "      <th>UnitPrice</th>\n",
       "      <th>Discount</th>\n",
       "      <th>Quantity</th>\n",
       "      <th>CostProduct</th>\n",
       "      <th>DiscountedCostProduct</th>\n",
       "      <th>Id</th>\n",
       "    </tr>\n",
       "  </thead>\n",
       "  <tbody>\n",
       "    <tr>\n",
       "      <th>0</th>\n",
       "      <td>1</td>\n",
       "      <td>14.4</td>\n",
       "      <td>0.0</td>\n",
       "      <td>18</td>\n",
       "      <td>259.2</td>\n",
       "      <td>259.2</td>\n",
       "      <td>10294</td>\n",
       "    </tr>\n",
       "    <tr>\n",
       "      <th>1</th>\n",
       "      <td>1</td>\n",
       "      <td>14.4</td>\n",
       "      <td>0.0</td>\n",
       "      <td>20</td>\n",
       "      <td>288.0</td>\n",
       "      <td>288.0</td>\n",
       "      <td>10317</td>\n",
       "    </tr>\n",
       "    <tr>\n",
       "      <th>2</th>\n",
       "      <td>1</td>\n",
       "      <td>14.4</td>\n",
       "      <td>0.0</td>\n",
       "      <td>12</td>\n",
       "      <td>172.8</td>\n",
       "      <td>172.8</td>\n",
       "      <td>10354</td>\n",
       "    </tr>\n",
       "    <tr>\n",
       "      <th>3</th>\n",
       "      <td>1</td>\n",
       "      <td>14.4</td>\n",
       "      <td>0.0</td>\n",
       "      <td>10</td>\n",
       "      <td>144.0</td>\n",
       "      <td>144.0</td>\n",
       "      <td>10406</td>\n",
       "    </tr>\n",
       "    <tr>\n",
       "      <th>4</th>\n",
       "      <td>1</td>\n",
       "      <td>14.4</td>\n",
       "      <td>0.0</td>\n",
       "      <td>24</td>\n",
       "      <td>345.6</td>\n",
       "      <td>345.6</td>\n",
       "      <td>10413</td>\n",
       "    </tr>\n",
       "    <tr>\n",
       "      <th>5</th>\n",
       "      <td>1</td>\n",
       "      <td>14.4</td>\n",
       "      <td>0.0</td>\n",
       "      <td>15</td>\n",
       "      <td>216.0</td>\n",
       "      <td>216.0</td>\n",
       "      <td>10477</td>\n",
       "    </tr>\n",
       "    <tr>\n",
       "      <th>6</th>\n",
       "      <td>1</td>\n",
       "      <td>18.0</td>\n",
       "      <td>0.0</td>\n",
       "      <td>10</td>\n",
       "      <td>180.0</td>\n",
       "      <td>180.0</td>\n",
       "      <td>10576</td>\n",
       "    </tr>\n",
       "    <tr>\n",
       "      <th>7</th>\n",
       "      <td>1</td>\n",
       "      <td>18.0</td>\n",
       "      <td>0.0</td>\n",
       "      <td>20</td>\n",
       "      <td>360.0</td>\n",
       "      <td>360.0</td>\n",
       "      <td>10590</td>\n",
       "    </tr>\n",
       "    <tr>\n",
       "      <th>8</th>\n",
       "      <td>1</td>\n",
       "      <td>18.0</td>\n",
       "      <td>0.0</td>\n",
       "      <td>3</td>\n",
       "      <td>54.0</td>\n",
       "      <td>54.0</td>\n",
       "      <td>10609</td>\n",
       "    </tr>\n",
       "    <tr>\n",
       "      <th>9</th>\n",
       "      <td>1</td>\n",
       "      <td>18.0</td>\n",
       "      <td>0.0</td>\n",
       "      <td>6</td>\n",
       "      <td>108.0</td>\n",
       "      <td>108.0</td>\n",
       "      <td>10611</td>\n",
       "    </tr>\n",
       "  </tbody>\n",
       "</table>\n",
       "</div>"
      ],
      "text/plain": [
       "   ProductId  UnitPrice  Discount  Quantity  CostProduct  \\\n",
       "0          1       14.4       0.0        18        259.2   \n",
       "1          1       14.4       0.0        20        288.0   \n",
       "2          1       14.4       0.0        12        172.8   \n",
       "3          1       14.4       0.0        10        144.0   \n",
       "4          1       14.4       0.0        24        345.6   \n",
       "5          1       14.4       0.0        15        216.0   \n",
       "6          1       18.0       0.0        10        180.0   \n",
       "7          1       18.0       0.0        20        360.0   \n",
       "8          1       18.0       0.0         3         54.0   \n",
       "9          1       18.0       0.0         6        108.0   \n",
       "\n",
       "   DiscountedCostProduct     Id  \n",
       "0                  259.2  10294  \n",
       "1                  288.0  10317  \n",
       "2                  172.8  10354  \n",
       "3                  144.0  10406  \n",
       "4                  345.6  10413  \n",
       "5                  216.0  10477  \n",
       "6                  180.0  10576  \n",
       "7                  360.0  10590  \n",
       "8                   54.0  10609  \n",
       "9                  108.0  10611  "
      ]
     },
     "execution_count": 187,
     "metadata": {},
     "output_type": "execute_result"
    }
   ],
   "source": [
    "# Extract all the orders with their products and quantities WHERE od.Discount = 0\n",
    "q_var = ''' SELECT od.ProductId, od.UnitPrice, od.Discount, od.Quantity, od.UnitPrice*od.Quantity AS CostProduct,\n",
    "od.UnitPrice*od.Quantity*(1-od.Discount) AS DiscountedCostProduct, o.Id\n",
    "FROM [Order] o \n",
    "JOIN OrderDetail od ON od.OrderId = o.Id\n",
    "WHERE od.Discount = 0\n",
    "ORDER BY od.ProductId ASC\n",
    "'''\n",
    "\n",
    "df_D0 = pd.read_sql_query(q_var, engine)\n",
    "print(len(df_D0))\n",
    "print(df_D0['Quantity'].mean())\n",
    "df_D0.head(10)"
   ]
  },
  {
   "cell_type": "markdown",
   "metadata": {},
   "source": [
    "We also would like to have the Quantity of products sold with Discount"
   ]
  },
  {
   "cell_type": "code",
   "execution_count": 188,
   "metadata": {},
   "outputs": [
    {
     "name": "stdout",
     "output_type": "stream",
     "text": [
      "2019-06-13 12:31:15,297 INFO sqlalchemy.engine.base.Engine  SELECT od.ProductId, od.UnitPrice, od.Discount, od.Quantity, od.UnitPrice*od.Quantity AS CostProduct,\n",
      "od.UnitPrice*od.Quantity*(1-od.Discount) AS DiscountedCostProduct, o.Id\n",
      "FROM [Order] o \n",
      "JOIN OrderDetail od ON od.OrderId = o.Id\n",
      "WHERE od.Discount <> 0\n",
      "ORDER BY od.ProductId ASC\n",
      "\n",
      "2019-06-13 12:31:15,302 INFO sqlalchemy.engine.base.Engine ()\n",
      "838\n",
      "27.10978520286396\n"
     ]
    },
    {
     "data": {
      "text/html": [
       "<div>\n",
       "<style scoped>\n",
       "    .dataframe tbody tr th:only-of-type {\n",
       "        vertical-align: middle;\n",
       "    }\n",
       "\n",
       "    .dataframe tbody tr th {\n",
       "        vertical-align: top;\n",
       "    }\n",
       "\n",
       "    .dataframe thead th {\n",
       "        text-align: right;\n",
       "    }\n",
       "</style>\n",
       "<table border=\"1\" class=\"dataframe\">\n",
       "  <thead>\n",
       "    <tr style=\"text-align: right;\">\n",
       "      <th></th>\n",
       "      <th>ProductId</th>\n",
       "      <th>UnitPrice</th>\n",
       "      <th>Discount</th>\n",
       "      <th>Quantity</th>\n",
       "      <th>CostProduct</th>\n",
       "      <th>DiscountedCostProduct</th>\n",
       "      <th>Id</th>\n",
       "    </tr>\n",
       "  </thead>\n",
       "  <tbody>\n",
       "    <tr>\n",
       "      <th>0</th>\n",
       "      <td>1</td>\n",
       "      <td>14.4</td>\n",
       "      <td>0.20</td>\n",
       "      <td>45</td>\n",
       "      <td>648.0</td>\n",
       "      <td>518.4</td>\n",
       "      <td>10285</td>\n",
       "    </tr>\n",
       "    <tr>\n",
       "      <th>1</th>\n",
       "      <td>1</td>\n",
       "      <td>14.4</td>\n",
       "      <td>0.15</td>\n",
       "      <td>15</td>\n",
       "      <td>216.0</td>\n",
       "      <td>183.6</td>\n",
       "      <td>10348</td>\n",
       "    </tr>\n",
       "    <tr>\n",
       "      <th>2</th>\n",
       "      <td>1</td>\n",
       "      <td>14.4</td>\n",
       "      <td>0.15</td>\n",
       "      <td>15</td>\n",
       "      <td>216.0</td>\n",
       "      <td>183.6</td>\n",
       "      <td>10370</td>\n",
       "    </tr>\n",
       "    <tr>\n",
       "      <th>3</th>\n",
       "      <td>1</td>\n",
       "      <td>18.0</td>\n",
       "      <td>0.20</td>\n",
       "      <td>40</td>\n",
       "      <td>720.0</td>\n",
       "      <td>576.0</td>\n",
       "      <td>10522</td>\n",
       "    </tr>\n",
       "    <tr>\n",
       "      <th>4</th>\n",
       "      <td>1</td>\n",
       "      <td>18.0</td>\n",
       "      <td>0.15</td>\n",
       "      <td>8</td>\n",
       "      <td>144.0</td>\n",
       "      <td>122.4</td>\n",
       "      <td>10526</td>\n",
       "    </tr>\n",
       "    <tr>\n",
       "      <th>5</th>\n",
       "      <td>1</td>\n",
       "      <td>18.0</td>\n",
       "      <td>0.25</td>\n",
       "      <td>15</td>\n",
       "      <td>270.0</td>\n",
       "      <td>202.5</td>\n",
       "      <td>10646</td>\n",
       "    </tr>\n",
       "    <tr>\n",
       "      <th>6</th>\n",
       "      <td>1</td>\n",
       "      <td>18.0</td>\n",
       "      <td>0.25</td>\n",
       "      <td>35</td>\n",
       "      <td>630.0</td>\n",
       "      <td>472.5</td>\n",
       "      <td>10689</td>\n",
       "    </tr>\n",
       "    <tr>\n",
       "      <th>7</th>\n",
       "      <td>1</td>\n",
       "      <td>18.0</td>\n",
       "      <td>0.20</td>\n",
       "      <td>5</td>\n",
       "      <td>90.0</td>\n",
       "      <td>72.0</td>\n",
       "      <td>10700</td>\n",
       "    </tr>\n",
       "    <tr>\n",
       "      <th>8</th>\n",
       "      <td>1</td>\n",
       "      <td>18.0</td>\n",
       "      <td>0.25</td>\n",
       "      <td>4</td>\n",
       "      <td>72.0</td>\n",
       "      <td>54.0</td>\n",
       "      <td>10838</td>\n",
       "    </tr>\n",
       "    <tr>\n",
       "      <th>9</th>\n",
       "      <td>1</td>\n",
       "      <td>18.0</td>\n",
       "      <td>0.20</td>\n",
       "      <td>80</td>\n",
       "      <td>1440.0</td>\n",
       "      <td>1152.0</td>\n",
       "      <td>10847</td>\n",
       "    </tr>\n",
       "  </tbody>\n",
       "</table>\n",
       "</div>"
      ],
      "text/plain": [
       "   ProductId  UnitPrice  Discount  Quantity  CostProduct  \\\n",
       "0          1       14.4      0.20        45        648.0   \n",
       "1          1       14.4      0.15        15        216.0   \n",
       "2          1       14.4      0.15        15        216.0   \n",
       "3          1       18.0      0.20        40        720.0   \n",
       "4          1       18.0      0.15         8        144.0   \n",
       "5          1       18.0      0.25        15        270.0   \n",
       "6          1       18.0      0.25        35        630.0   \n",
       "7          1       18.0      0.20         5         90.0   \n",
       "8          1       18.0      0.25         4         72.0   \n",
       "9          1       18.0      0.20        80       1440.0   \n",
       "\n",
       "   DiscountedCostProduct     Id  \n",
       "0                  518.4  10285  \n",
       "1                  183.6  10348  \n",
       "2                  183.6  10370  \n",
       "3                  576.0  10522  \n",
       "4                  122.4  10526  \n",
       "5                  202.5  10646  \n",
       "6                  472.5  10689  \n",
       "7                   72.0  10700  \n",
       "8                   54.0  10838  \n",
       "9                 1152.0  10847  "
      ]
     },
     "execution_count": 188,
     "metadata": {},
     "output_type": "execute_result"
    }
   ],
   "source": [
    "# Extract all the orders with their products and quantities WHERE od.Discount <> 0\n",
    "q_var = ''' SELECT od.ProductId, od.UnitPrice, od.Discount, od.Quantity, od.UnitPrice*od.Quantity AS CostProduct,\n",
    "od.UnitPrice*od.Quantity*(1-od.Discount) AS DiscountedCostProduct, o.Id\n",
    "FROM [Order] o \n",
    "JOIN OrderDetail od ON od.OrderId = o.Id\n",
    "WHERE od.Discount <> 0\n",
    "ORDER BY od.ProductId ASC\n",
    "'''\n",
    "\n",
    "df_Disc = pd.read_sql_query(q_var, engine)\n",
    "print(len(df_Disc))\n",
    "print(df_Disc['Quantity'].mean())\n",
    "df_Disc.head(10)"
   ]
  },
  {
   "cell_type": "markdown",
   "metadata": {},
   "source": [
    "One of the **conditions for our hypothesis testing** is that we are working with data that has a **normal distribution**. \n",
    "\n",
    "Normality is important because I would like to apply  a parametric test which increase the chances of finding variability in our data hence finding significant results.\n",
    "\n",
    "To determine Normality we follow a multi step approach - to test our hypothesis: \n",
    "\n",
    "#### Step 1) We state our **Normality hypothesis** as follows:\n",
    "\n",
    "### Null hypothesis##\n",
    "\n",
    ">$H_{0}$: the data is normally distributed \n",
    "    \n",
    "### Alternative hypothesis##\n",
    "\n",
    ">$H_{A}$: the data it is Not normally distributed\n",
    "\n",
    "\n",
    "#### Step 2) We provide a graphical representation for our data"
   ]
  },
  {
   "cell_type": "code",
   "execution_count": 189,
   "metadata": {},
   "outputs": [
    {
     "data": {
      "image/png": "[encoded data removed]",
      "text/plain": [
       "<Figure size 1296x432 with 1 Axes>"
      ]
     },
     "metadata": {
      "needs_background": "light"
     },
     "output_type": "display_data"
    }
   ],
   "source": [
    "#define the graph size\n",
    "plt.subplots(figsize = (18,6))\n",
    "\n",
    "#Plot the Discounted\n",
    "plt.hist(df_Disc.Quantity, density=True, alpha = 0.1, color = 'darkgreen')\n",
    "sns.kdeplot(df_Disc.Quantity, shade = False, color = 'darkgreen', label='Discounted products', linewidth=3)\n",
    "plt.vlines(df_Disc.Quantity.mean(), 0, .03, color = 'black', linestyles='-.', label='mean Discounted products')\n",
    "plt.text(df_Disc.Quantity.mean()+1, .029, r\"mean Discounted=\"+ str(round(df_Disc.Quantity.mean(),1)), \n",
    "         {'color': 'black', 'fontsize': 12},horizontalalignment='left')\n",
    "\n",
    "#Plot the Undiscounted\n",
    "plt.hist(df_D0.Quantity, density=True, alpha = 0.1, color = 'Orange')\n",
    "sns.kdeplot(df_D0.Quantity, shade = False, color = 'orange', label='Undiscounted products',  linewidth=3)\n",
    "plt.vlines(df_D0.Quantity.mean(), 0, .03, color = 'red', linestyles='-.', label='mean Undiscounted products')\n",
    "plt.text(df_D0.Quantity.mean()+1, .031, r\"mean Undiscounted=\"+ str(round(df_D0.Quantity.mean(),1)), \n",
    "         {'color': 'red', 'fontsize': 12},horizontalalignment='left')\n",
    "\n",
    "plt.legend(loc='upper right',fontsize = 12)\n",
    "plt.show()"
   ]
  },
  {
   "cell_type": "markdown",
   "metadata": {},
   "source": [
    "We note what seems to be positive kurtosis - with the tail extending to the right for both distributions. \n",
    "\n",
    "#### Step 3) Measure the symmetry of our data\n",
    "\n",
    "Having the quantification for the asymmetry would confirm our observation from the graphs."
   ]
  },
  {
   "cell_type": "code",
   "execution_count": 12,
   "metadata": {},
   "outputs": [
    {
     "name": "stdout",
     "output_type": "stream",
     "text": [
      "Skeweness Discounted =  1.5815727350866624\n",
      "Kurtosis Discounted =  3.2855655338966683\n",
      "Skeweness Undiscounted =  1.9115988573935332\n",
      "Kurtosis Undiscounted =  5.771124915313802\n"
     ]
    }
   ],
   "source": [
    "#measure kurtosis and skewness\n",
    "print('Skeweness Discounted = ', skew(df_Disc.Quantity) )\n",
    "print('Kurtosis Discounted = ', kurtosis(df_Disc.Quantity) )\n",
    "print('Skeweness Undiscounted = ', skew(df_D0.Quantity) )\n",
    "print('Kurtosis Undiscounted = ', kurtosis(df_D0.Quantity) )"
   ]
  },
  {
   "cell_type": "markdown",
   "metadata": {},
   "source": [
    "There are some general gidelines about considering a normal distribution based on Skeweness (+/- 2) and Kurtosis (+/-3) however are only used as referece and are not conclusive.  Other methods provide a better answer to the question of how comfortable we are with our data being normal enough to hold the normality assumptions. Kolmogorov-Smirnov test (K-S) is one of them, designed to compare our data to a normal distribution  with the same mean and standard deviation as our sample.\n",
    "\n",
    "If we obtain a significance level(p-value) below the cut-off value we have set (0.05 in this case), we reject the null hypothesis and accept the alternative hypothesis. Alternatively, if we obtain a significance level above the cut-off value, we fail to reject the null hypothesis and cannot accept the alternative hypothesis. "
   ]
  },
  {
   "cell_type": "code",
   "execution_count": 190,
   "metadata": {},
   "outputs": [],
   "source": [
    "#define a function that creates a sample with normal distribution and same mean and standard deviation as our sample\n",
    "def sample_data(data, size):\n",
    "    x_sample = stats.norm.rvs(loc=data.mean(),scale=data.std(), size = size)\n",
    "    return x_sample\n",
    "\n",
    "# define a function that tests measure of the strength of evidence against H0 -the NULL hypothesis of normality \n",
    "# for our data. H\n",
    "def result_ks_test(data, size):\n",
    "    confirmation = np.array([['Not', 'indicates normallity'],['','are not normal']])\n",
    "    result = stats.kstest(sample_data(data, size), 'norm', args = (data.mean(), data.std()))\n",
    "    if result[1] > 0.05:\n",
    "        option = 0\n",
    "    else:\n",
    "        option = 1\n",
    "    #print(f'{result}')\n",
    "    print(f'K-S = {result[1]}, the test is {confirmation[option][0]} significant: data {confirmation[option][1]}')\n",
    "    return"
   ]
  },
  {
   "cell_type": "code",
   "execution_count": 191,
   "metadata": {},
   "outputs": [
    {
     "name": "stdout",
     "output_type": "stream",
     "text": [
      "K-S = 0.5643314518585464, the test is Not significant: data indicates normallity\n",
      "K-S = 0.03683564975496756, the test is  significant: data are not normal\n"
     ]
    }
   ],
   "source": [
    "#running the K-S test for both our data for Discounted and Undiscounted products\n",
    "result_ks_test(df_Disc.Quantity,1000)\n",
    "result_ks_test(df_D0.Quantity,1000)"
   ]
  },
  {
   "cell_type": "markdown",
   "metadata": {},
   "source": [
    "#### Step 4) We interpret the results and Reject or Fail to Reject the NULL hypothesis\n",
    "\n",
    "Any p-value above .05 indicates we have 5% (or less) of probability of rejecting the Null hypothesis when it's true; it is statistically significant to say that **there is normality in the distribution of both our Discounted and Undiscounted product data**.  "
   ]
  },
  {
   "cell_type": "markdown",
   "metadata": {},
   "source": [
    "### 4. Analyze the Results\n",
    "\n",
    "Now that we have met the condition of Normality for our data, we want to know the magnitude of the difference between our two groups - to confirm or reject our initial Null hypothesis: The discount of a product does not have a significant effect on the number of products ordered. For this, we select Cohen's d to measure the number of standard deviations between the means of our 2 samples Discounted and Undiscounted "
   ]
  },
  {
   "cell_type": "code",
   "execution_count": 192,
   "metadata": {},
   "outputs": [],
   "source": [
    "#define function to calculate Cohen's D value\n",
    "def Cohen_d(data1, data2):\n",
    "    ''' \n",
    "    data1 and data2 are Series or Numpy arrays, the function returns the d value\n",
    "    '''\n",
    "    n1,n2 = len(data1), len(data2)\n",
    "    mean1,mean2 = data1.mean(), data2.mean()\n",
    "    var1,var2 = data1.var(), data2.var()\n",
    "    std1, std2 = data1.std(), data2.std()\n",
    "    \n",
    "    #calculate the pooled thershold\n",
    "    pooled_var = (n1*var1 + n2*var2)/(n1+n2)\n",
    "    \n",
    "    #calculate Cohen's statistic\n",
    "    d = (mean1-mean2)/np.sqrt(pooled_var)\n",
    "\n",
    "    return d"
   ]
  },
  {
   "cell_type": "code",
   "execution_count": 193,
   "metadata": {},
   "outputs": [
    {
     "name": "stdout",
     "output_type": "stream",
     "text": [
      "Cohen's d = 0.2862724481729286\n"
     ]
    }
   ],
   "source": [
    "#Compare now the Discount vs the Undiscounted quantities of products sold\n",
    "print(f'Cohen\\'s d = {Cohen_d(df_Disc.Quantity, df_D0.Quantity)}')"
   ]
  },
  {
   "cell_type": "markdown",
   "metadata": {},
   "source": [
    "We **Reject** the NULL hypothesis as, according to Cohen d's value guidelines, there's Small-Medium effect for the difference in Quantity of Product sold between Discounted and Undiscounted."
   ]
  },
  {
   "cell_type": "markdown",
   "metadata": {},
   "source": [
    "### 5. Draw conclusions\n",
    "\n",
    "Our test indicates that there is significant effect in the number of product customers order if there is a Discount. Northwind Trade may be interested in keeping this practice as it presents a positive results on the amount of products in their orders. It may also be of interest to explore further on the type of products, regions, customers etc if a more granular detail is desired."
   ]
  },
  {
   "cell_type": "markdown",
   "metadata": {},
   "source": [
    "### Now we can answer Question 1(b) :  at what level(s) of discount do discounts have a statistically significant effect in the number of product customers orders?"
   ]
  },
  {
   "cell_type": "markdown",
   "metadata": {},
   "source": [
    "### 1. Make an observation###\n",
    "\n",
    "From our previous example we already noted that there are multiple discounts, but we would like to know how many values we have:"
   ]
  },
  {
   "cell_type": "code",
   "execution_count": 194,
   "metadata": {},
   "outputs": [
    {
     "data": {
      "text/plain": [
       "0.05    185\n",
       "0.10    173\n",
       "0.20    161\n",
       "0.15    157\n",
       "0.25    154\n",
       "0.03      3\n",
       "0.02      2\n",
       "0.04      1\n",
       "0.06      1\n",
       "0.01      1\n",
       "Name: Discount, dtype: int64"
      ]
     },
     "execution_count": 194,
     "metadata": {},
     "output_type": "execute_result"
    }
   ],
   "source": [
    "# Display number of values\n",
    "df_Disc.Discount.value_counts()"
   ]
  },
  {
   "cell_type": "markdown",
   "metadata": {},
   "source": [
    "### 2. Examine research\n",
    "\n",
    "Forming different dataset with products based on a range of discount values, let's say by increments of 5%"
   ]
  },
  {
   "cell_type": "code",
   "execution_count": 195,
   "metadata": {},
   "outputs": [
    {
     "name": "stdout",
     "output_type": "stream",
     "text": [
      "Dataframe name: df_Disc05, Range discount > 0 <= 0.05\n",
      "Size Dataframe: 192\n",
      "Dataframe name: df_Disc10, Range discount > 0.05 <= 0.1\n",
      "Size Dataframe: 174\n",
      "Dataframe name: df_Disc15, Range discount > 0.1 <= 0.15\n",
      "Size Dataframe: 157\n",
      "Dataframe name: df_Disc20, Range discount > 0.15 <= 0.2\n",
      "Size Dataframe: 161\n",
      "Dataframe name: df_Disc25, Range discount > 0.2 <= 0.25\n",
      "Size Dataframe: 154\n",
      "['df_Disc05', 'df_Disc10', 'df_Disc15', 'df_Disc20', 'df_Disc25']\n"
     ]
    }
   ],
   "source": [
    "# creating dataframes for the ranges of 0.1-0.5, 0.6-.1, 0.15, 0.20 and 0.25\n",
    "initial = 0\n",
    "increment = 0.05\n",
    "beg_range = initial\n",
    "end_range = increment\n",
    "lst_nm = []\n",
    "df_collection = {}\n",
    "i=0\n",
    "# define the number of dataframes to use\n",
    "for nm in ['05','10','15','20','25']:\n",
    "    \n",
    "    #create the distinc name of the dataframe\n",
    "    key_name = 'df_Disc'+str(nm)\n",
    "    print(f'Dataframe name: {key_name}, Range discount > {round(beg_range,2)} <= {round(end_range,2)}')\n",
    "    lst_nm.insert(i,key_name)\n",
    "    \n",
    "    # create a dataframe and select the data that corresponds to range of Discount\n",
    "    df_collection[key_name] = pd.DataFrame()\n",
    "    df_collection[key_name] = df_Disc.loc[(df_Disc.Discount>beg_range) & (df_Disc.Discount<=end_range)]\n",
    "    print(f'Size Dataframe: {len(df_collection[key_name])}')\n",
    "    \n",
    "    beg_range = end_range\n",
    "    end_range = end_range+increment\n",
    "    i+= 1\n",
    "\n",
    "print(lst_nm)"
   ]
  },
  {
   "cell_type": "markdown",
   "metadata": {},
   "source": [
    "We note that the size of each of the dataframes (number of items for each of the different ranges) is similar; however we are interested in the Quantity of Products sold per Discount range having an impact and we'll define our hypothesis based on that."
   ]
  },
  {
   "cell_type": "markdown",
   "metadata": {},
   "source": [
    "### 3. Form a hypothesis\n",
    "\n",
    "#### Null hypothesis statement\n",
    "\n",
    "First we identify is the change in the quantity of products sold based on discount. The null-hypothesis addresses the fact that there is no change and sales of products with or without discount is exactly the same. \n",
    "\n",
    ">$H_{0}$: *The discount of a product does not have a significant effect on the number of products ordered* \n",
    "\n",
    "\n",
    "\n",
    "#### Alternate hypothesis\n",
    "    \n",
    "Our alternate hypothesis is that there is a change in the quantity of products sold based on discount.\n",
    "\n",
    ">$H_{A}$: *The discount of a product does have a significant effect on the number of products ordered*\n",
    "\n",
    "\n",
    "\n",
    "### 4. Conduct an experiment"
   ]
  },
  {
   "cell_type": "markdown",
   "metadata": {},
   "source": [
    "If we would like to test the Null hypothesis versus each dataset, having a very similar distribution and mean would be a good indicator that all datasets behave the same way with or without discount. So we start by the determination of Normality in each of our datasets"
   ]
  },
  {
   "cell_type": "markdown",
   "metadata": {},
   "source": [
    "We follow a multi step approach - to test our hypothesis: \n",
    "\n",
    "#### Step 1) We state our **Normality hypothesis** as follows:\n",
    "\n",
    "### Null hypothesis##\n",
    "\n",
    ">$H_{0}$: the data is normally distributed \n",
    "    \n",
    "### Alternative hypothesis##\n",
    "\n",
    ">$H_{A}$: the data it is Not normally distributed\n",
    "\n",
    "\n",
    "#### Step 2) We provide a graphical representation for our data"
   ]
  },
  {
   "cell_type": "code",
   "execution_count": 248,
   "metadata": {},
   "outputs": [
    {
     "data": {
      "image/png": "[encoded data removed]",
      "text/plain": [
       "<Figure size 1440x288 with 5 Axes>"
      ]
     },
     "metadata": {
      "needs_background": "light"
     },
     "output_type": "display_data"
    }
   ],
   "source": [
    "#display the subplots next to each other\n",
    "fig,axes = plt.subplots(figsize=(20,4), ncols = 5)\n",
    "\n",
    "for ax, z in zip(axes, range(len(lst_nm))):\n",
    "    \n",
    "    #Plot the Discounted datasets one by one\n",
    "    #for z in range(len(lst_nm)):\n",
    "    ax.hist(df_collection[lst_nm[z]].Quantity, density=True, alpha = 0.1, color = 'darkgreen',label='Quantity Discounted')\n",
    "    ax.vlines(df_collection[lst_nm[z]].Quantity.mean(), 0, .03, color = 'black', linestyles='-.', label='mean Discounted')\n",
    "    ax.text(df_collection[lst_nm[z]].Quantity.mean()+1, .026, \n",
    "            r\"     mean Discounted=\"+ str(round(df_collection[lst_nm[z]].Quantity.mean(),1)), \n",
    "         {'color': 'black', 'fontsize': 9},horizontalalignment='left')\n",
    "    ax.set_title(f'Discount = {df_collection[lst_nm[z]].Discount.max()}')\n",
    "    \n",
    "    #Plot the Undiscounted\n",
    "    ax.hist(df_D0.Quantity, density=True, alpha = 0.1, color = 'Orange',label='Quantity Undiscounted')\n",
    "    ax.vlines(df_D0.Quantity.mean(), 0, .03, color = 'red', linestyles='-.', label='mean Undiscounted')\n",
    "    ax.text(df_D0.Quantity.mean()+1, .029, r\"     mean Undiscounted=\"+ str(round(df_D0.Quantity.mean(),1)), \n",
    "         {'color': 'red', 'fontsize': 9},horizontalalignment='left')\n",
    "    ax.legend(loc='center right',fontsize = 8)\n",
    "plt.show()"
   ]
  },
  {
   "cell_type": "markdown",
   "metadata": {},
   "source": [
    "#### Step 3) Measure the symmetry of our data\n",
    "Having the quantification for the asymmetry would confirm our observation from the graphs."
   ]
  },
  {
   "cell_type": "code",
   "execution_count": 203,
   "metadata": {},
   "outputs": [
    {
     "name": "stdout",
     "output_type": "stream",
     "text": [
      "\n",
      "Discount 0.05\n",
      "Skeweness =  1.5874358685350642\n",
      "Kurtosis =  2.7291043769009002\n",
      "K-S = 0.917074308026893, the test is Not significant: data indicates normallity\n",
      "\n",
      "Discount 0.1\n",
      "Skeweness =  2.2070318192308593\n",
      "Kurtosis =  6.727900595581794\n",
      "K-S = 0.054566357093924545, the test is Not significant: data indicates normallity\n",
      "\n",
      "Discount 0.15\n",
      "Skeweness =  1.3079736552989059\n",
      "Kurtosis =  1.4684627433848405\n",
      "K-S = 0.12883858736945064, the test is Not significant: data indicates normallity\n",
      "\n",
      "Discount 0.2\n",
      "Skeweness =  1.1018799112625848\n",
      "Kurtosis =  1.3014003354581005\n",
      "K-S = 0.9116381851245926, the test is Not significant: data indicates normallity\n",
      "\n",
      "Discount 0.25\n",
      "Skeweness =  1.492492172219846\n",
      "Kurtosis =  3.4296470898719944\n",
      "K-S = 0.9547187825103846, the test is Not significant: data indicates normallity\n"
     ]
    }
   ],
   "source": [
    "#   measure kurtosis, kewness and running the K-S test for each dataframe\n",
    "\n",
    "for discount in range(len(lst_nm)):\n",
    "    print(f'\\nDiscount {df_collection[lst_nm[discount]].Discount.max()}')\n",
    "    print(f'Skeweness = ', skew(df_collection[lst_nm[discount]].Quantity) )\n",
    "    print(f'Kurtosis = ', kurtosis(df_collection[lst_nm[discount]].Quantity) )\n",
    "    result_ks_test(df_collection[lst_nm[z]].Quantity,1000)"
   ]
  },
  {
   "cell_type": "markdown",
   "metadata": {},
   "source": [
    "#### Step 4) We interpret the results and Reject or Fail to Reject the NULL hypothesis\n",
    "\n",
    "Using a critical value of .05 indicates we have 5% (or less) of probability of rejecting the Null hypothesis when it's true; for all our Discounted dataset we cannot reject the Null hypothesis and Accept that data is normaly distributed."
   ]
  },
  {
   "cell_type": "markdown",
   "metadata": {},
   "source": [
    "### 4. Analyze the Results\n",
    "\n",
    "With the Normality for our data confirmed, we test each one of our discounted datasets versus the Undiscounted dataset as we want to know the magnitude of the difference between our two groups - to confirm or reject our initial Null hypothesis: The discount of a product does not have a significant effect on the number of products ordered. \n",
    "\n",
    "As for the previous case, we select Cohen's d to measure the number of standard deviations between the means of our 2 samples Discounted and Undiscounted "
   ]
  },
  {
   "cell_type": "code",
   "execution_count": 205,
   "metadata": {},
   "outputs": [
    {
     "name": "stdout",
     "output_type": "stream",
     "text": [
      "Cohen's d df_Disc05 = 0.29335411856625043\n",
      "Cohen's d df_Disc10 = 0.18846987826002382\n",
      "Cohen's d df_Disc15 = 0.3724041317472815\n",
      "Cohen's d df_Disc20 = 0.3007122542913558\n",
      "Cohen's d df_Disc25 = 0.36659255652674483\n"
     ]
    }
   ],
   "source": [
    "for discount in range(len(lst_nm)):\n",
    "    print(f'Cohen\\'s d {lst_nm[discount]} = {Cohen_d(df_collection[lst_nm[discount]].Quantity, df_D0.Quantity)}')"
   ]
  },
  {
   "cell_type": "markdown",
   "metadata": {},
   "source": [
    "We Reject the NULL hypothesis and accept our Alternative hypothesis that the Discounts have an effect on the Porducts sold.\n",
    "\n",
    "\n",
    "### 5. Draw conclusions\n",
    "\n",
    "Generally, values below 0.20 are considered small, 0.50 medium and 0.80 large. From our dataframes, we note that the 10% discount is the smallest of all and that the 15% and 25% the highest. These last 2 would be of more interest to analyze further. "
   ]
  },
  {
   "cell_type": "markdown",
   "metadata": {},
   "source": [
    "### Question 2:  If I choose a random sample of Undiscounted products sold and Discounted products sold, what is the probability that the Undiscounted are smaller than the Discounted. "
   ]
  },
  {
   "cell_type": "markdown",
   "metadata": {},
   "source": [
    "We can quantify this difference by calculating the probability of superiority"
   ]
  },
  {
   "cell_type": "code",
   "execution_count": 219,
   "metadata": {},
   "outputs": [
    {
     "name": "stdout",
     "output_type": "stream",
     "text": [
      "57.5% of probability that Discounted product quantity sold is larger than Undiscounted\n"
     ]
    }
   ],
   "source": [
    "# We need a random sample of both Undiscounted and Discounted product sold\n",
    "sample_size= 1000\n",
    "df_Disc_Quantity_sample = sample_data(df_Disc.Quantity, sample_size)\n",
    "df_D0_Quantity_sample = sample_data(df_D0.Quantity, sample_size)\n",
    "\n",
    "#and use the zip() function to sum sample by sample the times where Undiscounted products sold is \n",
    "#smaller than Discounted\n",
    "superiority_sample= sum(x > y for x, y in zip(df_Disc_Quantity_sample,df_D0_Quantity_sample))/sample_size\n",
    "print(f'{round(superiority_sample*100,1)}% of probability that Discounted product quantity sold is larger than Undiscounted')"
   ]
  },
  {
   "cell_type": "code",
   "execution_count": 259,
   "metadata": {},
   "outputs": [
    {
     "name": "stdout",
     "output_type": "stream",
     "text": [
      "58.2% of probability that df_Disc05 Discounted product quantity sold is larger than Undiscounted\n",
      "54.3% of probability that df_Disc10 Discounted product quantity sold is larger than Undiscounted\n",
      "57.8% of probability that df_Disc15 Discounted product quantity sold is larger than Undiscounted\n",
      "56.2% of probability that df_Disc20 Discounted product quantity sold is larger than Undiscounted\n",
      "57.7% of probability that df_Disc25 Discounted product quantity sold is larger than Undiscounted\n"
     ]
    }
   ],
   "source": [
    "#per discount type\n",
    "sample_size= 1000\n",
    "df_D0_Quantity_sample = sample_data(df_D0.Quantity, sample_size)\n",
    "\n",
    "for discount in range(len(lst_nm)):\n",
    "    df_Disc_Quantity_sample = sample_data(df_collection[lst_nm[discount]].Quantity, sample_size)\n",
    "    superiority_sample= sum(x > y for x, y in zip(df_Disc_Quantity_sample,df_D0_Quantity_sample))/sample_size\n",
    "    print(f'{round(superiority_sample*100,1)}% of probability that {lst_nm[discount]} Discounted ' \n",
    "          'product quantity sold is larger than Undiscounted')"
   ]
  },
  {
   "cell_type": "code",
   "execution_count": null,
   "metadata": {},
   "outputs": [],
   "source": [
    "warnings.filterwarnings(\"default\", category=FutureWarning)"
   ]
  },
  {
   "cell_type": "code",
   "execution_count": null,
   "metadata": {},
   "outputs": [],
   "source": []
  }
 ],
 "metadata": {
  "kernelspec": {
   "display_name": "Python 3",
   "language": "python",
   "name": "python3"
  }
 },
 "nbformat": 4,
 "nbformat_minor": 2
}
